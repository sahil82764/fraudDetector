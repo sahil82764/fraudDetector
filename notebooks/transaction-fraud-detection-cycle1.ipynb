{
 "cells": [
  {
   "cell_type": "markdown",
   "metadata": {
    "heading_collapsed": true
   },
   "source": [
    "# i. Business Understanding"
   ]
  },
  {
   "cell_type": "markdown",
   "metadata": {
    "heading_collapsed": true,
    "hidden": true
   },
   "source": [
    "## i.i ABC Company"
   ]
  },
  {
   "cell_type": "markdown",
   "metadata": {
    "hidden": true
   },
   "source": [
    "* The ABC Company is a company specialized in detecting fraud in financial transactions made through mobile devices.\n",
    "\n",
    "* And the business model of the company is of the Service type with the monetization made by the performance of the service provided, that is, the user pays a fixed fee on the success in detecting fraud in the customer's transactions."
   ]
  },
  {
   "cell_type": "markdown",
   "metadata": {
    "hidden": true
   },
   "source": [
    "### i.i.i Expansion Problem"
   ]
  },
  {
   "cell_type": "markdown",
   "metadata": {
    "hidden": true
   },
   "source": [
    "ABC Company is expanding in Canada and to acquire customers more quickly, it has adopted a very aggressive strategy. The strategy works as follows:\n",
    "1. The company will receive 25% of the value of each transaction that is truly detected as fraud.\n",
    "1. The company will receive 5% of the value of each transaction detected as fraud, but the transaction is truly legitimate.\n",
    "1. The company will return 100% of the value to the customer, for each transaction detected as legitimate, however the transaction is truly a fraud."
   ]
  },
  {
   "cell_type": "markdown",
   "metadata": {
    "heading_collapsed": true,
    "hidden": true
   },
   "source": [
    "## i.ii The Challenge"
   ]
  },
  {
   "cell_type": "markdown",
   "metadata": {
    "hidden": true
   },
   "source": [
    "You need to deliver to the CEO of ABC Company a production model in which your access will be done via API, that is, customers will send their transactions via API so that your model classifies them as fraudulent or legitimate."
   ]
  },
  {
   "cell_type": "markdown",
   "metadata": {
    "hidden": true
   },
   "source": [
    "### i.ii.i Business Questions"
   ]
  },
  {
   "cell_type": "markdown",
   "metadata": {
    "hidden": true
   },
   "source": [
    "1. What is the model's Precision and Accuracy?\n",
    "1. How Reliable is the model in classifying transactions as legitimate or fraudulent?\n",
    "1. What is the Expected Billing by the Company if we classify 100% of transactions with the model?\n",
    "1. What is the Loss Expected by the Company in case of model failure?\n",
    "1. What is the Profit Expected by the ABC Company when using the model?"
   ]
  },
  {
   "cell_type": "markdown",
   "metadata": {
    "heading_collapsed": true
   },
   "source": [
    "# 0.0 Imports and Helper Functions"
   ]
  },
  {
   "cell_type": "markdown",
   "metadata": {
    "hidden": true
   },
   "source": [
    "## 0.1 Imports"
   ]
  },
  {
   "cell_type": "code",
   "execution_count": 1,
   "metadata": {
    "ExecuteTime": {
     "end_time": "2021-01-11T18:47:33.819432Z",
     "start_time": "2021-01-11T18:47:33.805991Z"
    },
    "hidden": true
   },
   "outputs": [],
   "source": [
    "import joblib\n",
    "import warnings\n",
    "import inflection\n",
    "\n",
    "import numpy             as np\n",
    "import pandas            as pd\n",
    "import seaborn           as sns\n",
    "\n",
    "import matplotlib.pyplot as plt\n",
    "\n",
    "from scipy   import stats\n",
    "from boruta  import BorutaPy\n",
    "from category_encoders import OneHotEncoder\n",
    "\n",
    "from IPython.display      import Image\n",
    "from IPython.core.display import HTML \n",
    "\n",
    "from xgboost  import XGBClassifier\n",
    "from lightgbm import LGBMClassifier\n",
    "\n",
    "from sklearn.svm          import SVC\n",
    "from sklearn.dummy        import DummyClassifier\n",
    "from sklearn.ensemble     import RandomForestClassifier\n",
    "from sklearn.neighbors    import KNeighborsClassifier\n",
    "from sklearn.linear_model import LogisticRegression\n",
    "\n",
    "from sklearn.metrics         import balanced_accuracy_score, precision_score, classification_report\n",
    "from sklearn.metrics         import recall_score, f1_score, make_scorer, cohen_kappa_score\n",
    "from sklearn.preprocessing   import MinMaxScaler\n",
    "from sklearn.model_selection import GridSearchCV, train_test_split, StratifiedKFold"
   ]
  },
  {
   "cell_type": "markdown",
   "metadata": {
    "hidden": true
   },
   "source": [
    "## 0.2 Helper Functions"
   ]
  },
  {
   "cell_type": "code",
   "execution_count": 2,
   "metadata": {
    "ExecuteTime": {
     "end_time": "2021-01-11T18:47:34.604129Z",
     "start_time": "2021-01-11T18:47:34.599974Z"
    },
    "hidden": true
   },
   "outputs": [],
   "source": [
    "warnings.filterwarnings('ignore')\n",
    "\n",
    "seed = 42\n",
    "np.random.seed(seed)"
   ]
  },
  {
   "cell_type": "code",
   "execution_count": 3,
   "metadata": {
    "ExecuteTime": {
     "end_time": "2021-01-11T18:47:34.811059Z",
     "start_time": "2021-01-11T18:47:34.792000Z"
    },
    "hidden": true
   },
   "outputs": [
    {
     "name": "stdout",
     "output_type": "stream",
     "text": [
      "%pylab is deprecated, use %matplotlib inline and import the required libraries.\n",
      "Populating the interactive namespace from numpy and matplotlib\n"
     ]
    },
    {
     "data": {
      "text/html": [
       "<style>.container { width:100% !important; }</style>"
      ],
      "text/plain": [
       "<IPython.core.display.HTML object>"
      ]
     },
     "metadata": {},
     "output_type": "display_data"
    }
   ],
   "source": [
    "def jupyter_settings():\n",
    "    %matplotlib inline\n",
    "    %pylab inline\n",
    "    \n",
    "    sns.set(font_scale=1.6)\n",
    "    \n",
    "    plt.style.use('seaborn-darkgrid')\n",
    "    plt.rcParams['figure.figsize'] = [25, 12]\n",
    "    plt.rcParams['font.size'] = 16\n",
    "    \n",
    "    display( HTML('<style>.container { width:100% !important; }</style>'))\n",
    "    pd.options.display.max_columns = None\n",
    "    pd.options.display.max_rows = None\n",
    "    pd.set_option('display.expand_frame_repr', False)\n",
    "    \n",
    "jupyter_settings()"
   ]
  },
  {
   "cell_type": "code",
   "execution_count": 4,
   "metadata": {
    "ExecuteTime": {
     "end_time": "2021-01-11T18:47:35.035622Z",
     "start_time": "2021-01-11T18:47:35.024369Z"
    },
    "hidden": true
   },
   "outputs": [],
   "source": [
    "def ml_scores(model_name, y_true, y_pred):\n",
    "    \n",
    "    accuracy = balanced_accuracy_score(y_true, y_pred)\n",
    "    precision = precision_score(y_true, y_pred)\n",
    "    recall = recall_score(y_true, y_pred)\n",
    "    f1 = f1_score(y_true, y_pred)\n",
    "    kappa = cohen_kappa_score(y_true, y_pred)\n",
    "    \n",
    "    return pd.DataFrame({'Balanced Accuracy': np.round(accuracy, 3), \n",
    "                         'Precision': np.round(precision, 3), \n",
    "                         'Recall': np.round(recall, 3),\n",
    "                         'F1': np.round(f1, 3),\n",
    "                         'Kappa': np.round(kappa, 3)}, \n",
    "                        index=[model_name])"
   ]
  },
  {
   "cell_type": "code",
   "execution_count": 5,
   "metadata": {
    "ExecuteTime": {
     "end_time": "2021-01-11T18:47:35.233972Z",
     "start_time": "2021-01-11T18:47:35.222569Z"
    },
    "hidden": true
   },
   "outputs": [],
   "source": [
    "def calcCramerV(x, y):\n",
    "    cm = pd.crosstab(x, y).values\n",
    "    n = cm.sum()\n",
    "    r, k = cm.shape\n",
    "    \n",
    "    chi2 = stats.chi2_contingency(cm)[0]\n",
    "    chi2corr = max(0, chi2 - (k-1)*(r-1)/(n-1))\n",
    "    \n",
    "    kcorr = k - (k-1)**2/(n-1)\n",
    "    rcorr = r - (r-1)**2/(n-1)\n",
    "    \n",
    "    return np.sqrt((chi2corr/n) / (min(kcorr-1, rcorr-1)))"
   ]
  },
  {
   "cell_type": "code",
   "execution_count": 6,
   "metadata": {
    "ExecuteTime": {
     "end_time": "2021-01-11T18:47:35.431569Z",
     "start_time": "2021-01-11T18:47:35.406476Z"
    },
    "hidden": true
   },
   "outputs": [],
   "source": [
    "def ml_cv_results(model_name, model, x, y, verbose=1):\n",
    "    \n",
    "    '''initial'''\n",
    "    balanced_accuracies = []\n",
    "    precisions = []\n",
    "    recalls = []\n",
    "    f1s = []\n",
    "    kappas = []\n",
    "    \n",
    "    mm = MinMaxScaler()\n",
    "    \n",
    "    x_ = x.to_numpy()\n",
    "    y_ = y.to_numpy()\n",
    "    \n",
    "    count = 0\n",
    "    \n",
    "    '''cross-validation'''\n",
    "    skf = StratifiedKFold(n_splits=5, shuffle=True)\n",
    "    \n",
    "    for index_train, index_test in skf.split(x_, y_):\n",
    "        ## Showing the Fold\n",
    "        if verbose > 0:\n",
    "            count += 1\n",
    "            print('Fold K=%i' % (count))\n",
    "    \n",
    "        ## selecting train and test\n",
    "        x_train, x_test = x.iloc[index_train], x.iloc[index_test]\n",
    "        y_train, y_test = y.iloc[index_train], y.iloc[index_test]\n",
    "        \n",
    "        ## applying the scale\n",
    "        x_train = mm.fit_transform(x_train)\n",
    "        x_test = mm.transform(x_test)\n",
    "    \n",
    "        ## training the model\n",
    "        model.fit(x_train, y_train)\n",
    "        y_pred = model.predict(x_test)\n",
    "\n",
    "        ## saving the metrics\n",
    "        balanced_accuracies.append(balanced_accuracy_score(y_test, y_pred))\n",
    "        precisions.append(precision_score(y_test, y_pred))\n",
    "        recalls.append(recall_score(y_test, y_pred))\n",
    "        f1s.append(f1_score(y_test, y_pred))\n",
    "        kappas.append(cohen_kappa_score(y_test, y_pred))\n",
    "        \n",
    "        \n",
    "    '''results'''    \n",
    "    accuracy_mean, accuracy_std = np.round(np.mean(balanced_accuracies), 3), np.round(np.std(balanced_accuracies), 3)\n",
    "    precision_mean, precision_std = np.round(np.mean(precisions), 3), np.round(np.std(precisions), 3)\n",
    "    recall_mean, recall_std = np.round(np.mean(recalls), 3), np.round(np.std(recalls), 3)\n",
    "    f1_mean, f1_std = np.round(np.mean(f1s), 3), np.round(np.std(f1s), 3)\n",
    "    kappa_mean, kappa_std = np.round(np.mean(kappas), 3), np.round(np.std(kappas), 3)\n",
    "    \n",
    "    ## saving the results in a dataframe\n",
    "    return pd.DataFrame({\"Balanced Accuracy\": \"{} +/- {}\".format(accuracy_mean, accuracy_std),\n",
    "                        \"Precision\": \"{} +/- {}\".format(precision_mean, precision_std),\n",
    "                        \"Recall\": \"{} +/- {}\".format(recall_mean, recall_std),\n",
    "                        \"F1\": \"{} +/- {}\".format(f1_mean, f1_std),\n",
    "                        \"Kappa\": \"{} +/- {}\".format(kappa_mean, kappa_std)},\n",
    "                       index=[model_name])"
   ]
  },
  {
   "cell_type": "markdown",
   "metadata": {
    "heading_collapsed": true
   },
   "source": [
    "# 1.0 Data Description"
   ]
  },
  {
   "cell_type": "markdown",
   "metadata": {
    "hidden": true
   },
   "source": [
    "## 1.1 Loading Data"
   ]
  },
  {
   "cell_type": "code",
   "execution_count": 7,
   "metadata": {
    "ExecuteTime": {
     "end_time": "2021-01-11T18:47:37.450936Z",
     "start_time": "2021-01-11T18:47:36.044298Z"
    },
    "hidden": true
   },
   "outputs": [],
   "source": [
    "df1 = pd.read_csv('../data/raw/fraud_0.1origbase.csv')"
   ]
  },
  {
   "cell_type": "code",
   "execution_count": 8,
   "metadata": {
    "ExecuteTime": {
     "end_time": "2021-01-11T18:47:37.474072Z",
     "start_time": "2021-01-11T18:47:37.453989Z"
    },
    "hidden": true
   },
   "outputs": [
    {
     "data": {
      "text/html": [
       "<div>\n",
       "<style scoped>\n",
       "    .dataframe tbody tr th:only-of-type {\n",
       "        vertical-align: middle;\n",
       "    }\n",
       "\n",
       "    .dataframe tbody tr th {\n",
       "        vertical-align: top;\n",
       "    }\n",
       "\n",
       "    .dataframe thead th {\n",
       "        text-align: right;\n",
       "    }\n",
       "</style>\n",
       "<table border=\"1\" class=\"dataframe\">\n",
       "  <thead>\n",
       "    <tr style=\"text-align: right;\">\n",
       "      <th></th>\n",
       "      <th>step</th>\n",
       "      <th>type</th>\n",
       "      <th>amount</th>\n",
       "      <th>nameOrig</th>\n",
       "      <th>oldbalanceOrg</th>\n",
       "      <th>newbalanceOrig</th>\n",
       "      <th>nameDest</th>\n",
       "      <th>oldbalanceDest</th>\n",
       "      <th>newbalanceDest</th>\n",
       "      <th>isFraud</th>\n",
       "      <th>isFlaggedFraud</th>\n",
       "    </tr>\n",
       "  </thead>\n",
       "  <tbody>\n",
       "    <tr>\n",
       "      <th>0</th>\n",
       "      <td>283</td>\n",
       "      <td>CASH_IN</td>\n",
       "      <td>210329.84</td>\n",
       "      <td>C1159819632</td>\n",
       "      <td>3778062.79</td>\n",
       "      <td>3988392.64</td>\n",
       "      <td>C1218876138</td>\n",
       "      <td>1519266.60</td>\n",
       "      <td>1308936.76</td>\n",
       "      <td>0</td>\n",
       "      <td>0</td>\n",
       "    </tr>\n",
       "    <tr>\n",
       "      <th>1</th>\n",
       "      <td>132</td>\n",
       "      <td>CASH_OUT</td>\n",
       "      <td>215489.19</td>\n",
       "      <td>C1372369468</td>\n",
       "      <td>21518.00</td>\n",
       "      <td>0.00</td>\n",
       "      <td>C467105520</td>\n",
       "      <td>6345756.55</td>\n",
       "      <td>6794954.89</td>\n",
       "      <td>0</td>\n",
       "      <td>0</td>\n",
       "    </tr>\n",
       "    <tr>\n",
       "      <th>2</th>\n",
       "      <td>355</td>\n",
       "      <td>DEBIT</td>\n",
       "      <td>4431.05</td>\n",
       "      <td>C1059822709</td>\n",
       "      <td>20674.00</td>\n",
       "      <td>16242.95</td>\n",
       "      <td>C76588246</td>\n",
       "      <td>80876.56</td>\n",
       "      <td>85307.61</td>\n",
       "      <td>0</td>\n",
       "      <td>0</td>\n",
       "    </tr>\n",
       "    <tr>\n",
       "      <th>3</th>\n",
       "      <td>135</td>\n",
       "      <td>CASH_OUT</td>\n",
       "      <td>214026.20</td>\n",
       "      <td>C1464960643</td>\n",
       "      <td>46909.73</td>\n",
       "      <td>0.00</td>\n",
       "      <td>C1059379810</td>\n",
       "      <td>13467450.36</td>\n",
       "      <td>13681476.56</td>\n",
       "      <td>0</td>\n",
       "      <td>0</td>\n",
       "    </tr>\n",
       "    <tr>\n",
       "      <th>4</th>\n",
       "      <td>381</td>\n",
       "      <td>CASH_OUT</td>\n",
       "      <td>8858.45</td>\n",
       "      <td>C831134427</td>\n",
       "      <td>0.00</td>\n",
       "      <td>0.00</td>\n",
       "      <td>C579876929</td>\n",
       "      <td>1667180.58</td>\n",
       "      <td>1676039.03</td>\n",
       "      <td>0</td>\n",
       "      <td>0</td>\n",
       "    </tr>\n",
       "  </tbody>\n",
       "</table>\n",
       "</div>"
      ],
      "text/plain": [
       "   step      type     amount     nameOrig  oldbalanceOrg  newbalanceOrig     nameDest  oldbalanceDest  newbalanceDest  isFraud  isFlaggedFraud\n",
       "0   283   CASH_IN  210329.84  C1159819632     3778062.79      3988392.64  C1218876138      1519266.60      1308936.76        0               0\n",
       "1   132  CASH_OUT  215489.19  C1372369468       21518.00            0.00   C467105520      6345756.55      6794954.89        0               0\n",
       "2   355     DEBIT    4431.05  C1059822709       20674.00        16242.95    C76588246        80876.56        85307.61        0               0\n",
       "3   135  CASH_OUT  214026.20  C1464960643       46909.73            0.00  C1059379810     13467450.36     13681476.56        0               0\n",
       "4   381  CASH_OUT    8858.45   C831134427           0.00            0.00   C579876929      1667180.58      1676039.03        0               0"
      ]
     },
     "execution_count": 8,
     "metadata": {},
     "output_type": "execute_result"
    }
   ],
   "source": [
    "df1.head()"
   ]
  },
  {
   "cell_type": "code",
   "execution_count": 9,
   "metadata": {
    "ExecuteTime": {
     "end_time": "2021-01-11T18:47:37.491715Z",
     "start_time": "2021-01-11T18:47:37.476639Z"
    },
    "hidden": true
   },
   "outputs": [
    {
     "data": {
      "text/html": [
       "<div>\n",
       "<style scoped>\n",
       "    .dataframe tbody tr th:only-of-type {\n",
       "        vertical-align: middle;\n",
       "    }\n",
       "\n",
       "    .dataframe tbody tr th {\n",
       "        vertical-align: top;\n",
       "    }\n",
       "\n",
       "    .dataframe thead th {\n",
       "        text-align: right;\n",
       "    }\n",
       "</style>\n",
       "<table border=\"1\" class=\"dataframe\">\n",
       "  <thead>\n",
       "    <tr style=\"text-align: right;\">\n",
       "      <th></th>\n",
       "      <th>step</th>\n",
       "      <th>type</th>\n",
       "      <th>amount</th>\n",
       "      <th>nameOrig</th>\n",
       "      <th>oldbalanceOrg</th>\n",
       "      <th>newbalanceOrig</th>\n",
       "      <th>nameDest</th>\n",
       "      <th>oldbalanceDest</th>\n",
       "      <th>newbalanceDest</th>\n",
       "      <th>isFraud</th>\n",
       "      <th>isFlaggedFraud</th>\n",
       "    </tr>\n",
       "  </thead>\n",
       "  <tbody>\n",
       "    <tr>\n",
       "      <th>636257</th>\n",
       "      <td>351</td>\n",
       "      <td>CASH_OUT</td>\n",
       "      <td>28761.10</td>\n",
       "      <td>C742050657</td>\n",
       "      <td>0.0</td>\n",
       "      <td>0.00</td>\n",
       "      <td>C568407561</td>\n",
       "      <td>328534.52</td>\n",
       "      <td>357295.62</td>\n",
       "      <td>0</td>\n",
       "      <td>0</td>\n",
       "    </tr>\n",
       "    <tr>\n",
       "      <th>636258</th>\n",
       "      <td>184</td>\n",
       "      <td>CASH_OUT</td>\n",
       "      <td>167820.71</td>\n",
       "      <td>C561181412</td>\n",
       "      <td>62265.0</td>\n",
       "      <td>0.00</td>\n",
       "      <td>C1852953580</td>\n",
       "      <td>106429.48</td>\n",
       "      <td>274250.18</td>\n",
       "      <td>0</td>\n",
       "      <td>0</td>\n",
       "    </tr>\n",
       "    <tr>\n",
       "      <th>636259</th>\n",
       "      <td>35</td>\n",
       "      <td>PAYMENT</td>\n",
       "      <td>8898.12</td>\n",
       "      <td>C1773417333</td>\n",
       "      <td>30808.0</td>\n",
       "      <td>21909.88</td>\n",
       "      <td>M445701551</td>\n",
       "      <td>0.00</td>\n",
       "      <td>0.00</td>\n",
       "      <td>0</td>\n",
       "      <td>0</td>\n",
       "    </tr>\n",
       "    <tr>\n",
       "      <th>636260</th>\n",
       "      <td>277</td>\n",
       "      <td>CASH_OUT</td>\n",
       "      <td>176147.90</td>\n",
       "      <td>C1423233247</td>\n",
       "      <td>83669.0</td>\n",
       "      <td>0.00</td>\n",
       "      <td>C1328739120</td>\n",
       "      <td>0.00</td>\n",
       "      <td>176147.90</td>\n",
       "      <td>0</td>\n",
       "      <td>0</td>\n",
       "    </tr>\n",
       "    <tr>\n",
       "      <th>636261</th>\n",
       "      <td>304</td>\n",
       "      <td>CASH_OUT</td>\n",
       "      <td>95142.89</td>\n",
       "      <td>C874575079</td>\n",
       "      <td>0.0</td>\n",
       "      <td>0.00</td>\n",
       "      <td>C666451134</td>\n",
       "      <td>431380.07</td>\n",
       "      <td>526522.96</td>\n",
       "      <td>0</td>\n",
       "      <td>0</td>\n",
       "    </tr>\n",
       "  </tbody>\n",
       "</table>\n",
       "</div>"
      ],
      "text/plain": [
       "        step      type     amount     nameOrig  oldbalanceOrg  newbalanceOrig     nameDest  oldbalanceDest  newbalanceDest  isFraud  isFlaggedFraud\n",
       "636257   351  CASH_OUT   28761.10   C742050657            0.0            0.00   C568407561       328534.52       357295.62        0               0\n",
       "636258   184  CASH_OUT  167820.71   C561181412        62265.0            0.00  C1852953580       106429.48       274250.18        0               0\n",
       "636259    35   PAYMENT    8898.12  C1773417333        30808.0        21909.88   M445701551            0.00            0.00        0               0\n",
       "636260   277  CASH_OUT  176147.90  C1423233247        83669.0            0.00  C1328739120            0.00       176147.90        0               0\n",
       "636261   304  CASH_OUT   95142.89   C874575079            0.0            0.00   C666451134       431380.07       526522.96        0               0"
      ]
     },
     "execution_count": 9,
     "metadata": {},
     "output_type": "execute_result"
    }
   ],
   "source": [
    "df1.tail()"
   ]
  },
  {
   "cell_type": "markdown",
   "metadata": {
    "hidden": true
   },
   "source": [
    "## 1.2 Columns"
   ]
  },
  {
   "cell_type": "markdown",
   "metadata": {
    "hidden": true
   },
   "source": [
    "### 1.2.1 Column Descriptions"
   ]
  },
  {
   "cell_type": "markdown",
   "metadata": {
    "hidden": true
   },
   "source": [
    "**step:** maps a unit of time in the real world. In this case 1 step is 1 hour of time. Total steps 744 (30 days simulation).\n",
    "\n",
    "**type:** CASH-IN, CASH-OUT, DEBIT, PAYMENT and TRANSFER.\n",
    "\n",
    "**amount:** amount of the transaction in local currency.\n",
    "\n",
    "**nameOrig:** customer who started the transaction\n",
    "\n",
    "**oldbalanceOrg:** initial balance before the transaction\n",
    "\n",
    "**newbalanceOrig:** new balance after the transaction\n",
    "\n",
    "**nameDest:** customer who is the recipient of the transaction\n",
    "\n",
    "**oldbalanceDest:** initial balance recipient before the transaction. Note that there is not information for customers that start with M (Merchants).\n",
    "\n",
    "**newbalanceDest:** new balance recipient after the transaction. Note that there is not information for customers that start with M (Merchants).\n",
    "\n",
    "**isFraud:** This is the transactions made by the fraudulent agents inside the simulation. In this specific dataset the fraudulent behavior of the agents aims to profit by taking control or customers accounts and try to empty the funds by transferring to another account and then cashing out of the system.\n",
    "\n",
    "**isFlaggedFraud:** The business model aims to control massive transfers from one account to another and flags illegal attempts. An illegal attempt in this dataset is an attempt to transfer more than 200.000 in a single transaction."
   ]
  },
  {
   "cell_type": "markdown",
   "metadata": {
    "ExecuteTime": {
     "end_time": "2020-12-12T21:31:42.617142Z",
     "start_time": "2020-12-12T21:31:42.609502Z"
    },
    "hidden": true
   },
   "source": [
    "### 1.2.2 Column Rename"
   ]
  },
  {
   "cell_type": "code",
   "execution_count": 10,
   "metadata": {
    "ExecuteTime": {
     "end_time": "2021-01-11T18:47:37.498900Z",
     "start_time": "2021-01-11T18:47:37.494994Z"
    },
    "hidden": true
   },
   "outputs": [],
   "source": [
    "cols_old = df1.columns.tolist()\n",
    "\n",
    "snakecase = lambda x: inflection.underscore(x)\n",
    "cols_new = list(map(snakecase, cols_old))\n",
    "\n",
    "df1.columns = cols_new"
   ]
  },
  {
   "cell_type": "code",
   "execution_count": 11,
   "metadata": {
    "ExecuteTime": {
     "end_time": "2021-01-11T18:47:37.505663Z",
     "start_time": "2021-01-11T18:47:37.501235Z"
    },
    "hidden": true
   },
   "outputs": [
    {
     "data": {
      "text/plain": [
       "Index(['step', 'type', 'amount', 'name_orig', 'oldbalance_org',\n",
       "       'newbalance_orig', 'name_dest', 'oldbalance_dest', 'newbalance_dest',\n",
       "       'is_fraud', 'is_flagged_fraud'],\n",
       "      dtype='object')"
      ]
     },
     "execution_count": 11,
     "metadata": {},
     "output_type": "execute_result"
    }
   ],
   "source": [
    "df1.columns"
   ]
  },
  {
   "cell_type": "markdown",
   "metadata": {
    "hidden": true
   },
   "source": [
    "## 1.3 Data Dimension"
   ]
  },
  {
   "cell_type": "code",
   "execution_count": 12,
   "metadata": {
    "ExecuteTime": {
     "end_time": "2021-01-11T18:47:37.851622Z",
     "start_time": "2021-01-11T18:47:37.847980Z"
    },
    "hidden": true
   },
   "outputs": [
    {
     "name": "stdout",
     "output_type": "stream",
     "text": [
      "Number of Rows: 636262\n",
      "Number of Cols: 11\n"
     ]
    }
   ],
   "source": [
    "print('Number of Rows: {}'.format(df1.shape[0]))\n",
    "print('Number of Cols: {}'.format(df1.shape[1]))"
   ]
  },
  {
   "cell_type": "markdown",
   "metadata": {
    "hidden": true
   },
   "source": [
    "## 1.4 Data Types and Structure"
   ]
  },
  {
   "cell_type": "code",
   "execution_count": 13,
   "metadata": {
    "ExecuteTime": {
     "end_time": "2021-01-11T18:47:38.334664Z",
     "start_time": "2021-01-11T18:47:38.201896Z"
    },
    "hidden": true
   },
   "outputs": [
    {
     "name": "stdout",
     "output_type": "stream",
     "text": [
      "<class 'pandas.core.frame.DataFrame'>\n",
      "RangeIndex: 636262 entries, 0 to 636261\n",
      "Data columns (total 11 columns):\n",
      " #   Column            Non-Null Count   Dtype  \n",
      "---  ------            --------------   -----  \n",
      " 0   step              636262 non-null  int64  \n",
      " 1   type              636262 non-null  object \n",
      " 2   amount            636262 non-null  float64\n",
      " 3   name_orig         636262 non-null  object \n",
      " 4   oldbalance_org    636262 non-null  float64\n",
      " 5   newbalance_orig   636262 non-null  float64\n",
      " 6   name_dest         636262 non-null  object \n",
      " 7   oldbalance_dest   636262 non-null  float64\n",
      " 8   newbalance_dest   636262 non-null  float64\n",
      " 9   is_fraud          636262 non-null  int64  \n",
      " 10  is_flagged_fraud  636262 non-null  int64  \n",
      "dtypes: float64(5), int64(3), object(3)\n",
      "memory usage: 53.4+ MB\n"
     ]
    }
   ],
   "source": [
    "df1.info()"
   ]
  },
  {
   "cell_type": "markdown",
   "metadata": {
    "hidden": true
   },
   "source": [
    "## 1.5 Check NA"
   ]
  },
  {
   "cell_type": "code",
   "execution_count": 14,
   "metadata": {
    "ExecuteTime": {
     "end_time": "2021-01-11T18:47:38.655459Z",
     "start_time": "2021-01-11T18:47:38.542451Z"
    },
    "hidden": true
   },
   "outputs": [
    {
     "data": {
      "text/plain": [
       "step                0.0\n",
       "type                0.0\n",
       "amount              0.0\n",
       "name_orig           0.0\n",
       "oldbalance_org      0.0\n",
       "newbalance_orig     0.0\n",
       "name_dest           0.0\n",
       "oldbalance_dest     0.0\n",
       "newbalance_dest     0.0\n",
       "is_fraud            0.0\n",
       "is_flagged_fraud    0.0\n",
       "dtype: float64"
      ]
     },
     "execution_count": 14,
     "metadata": {},
     "output_type": "execute_result"
    }
   ],
   "source": [
    "df1.isna().mean()"
   ]
  },
  {
   "cell_type": "markdown",
   "metadata": {
    "hidden": true
   },
   "source": [
    "## 1.6 Fill Out NA"
   ]
  },
  {
   "cell_type": "markdown",
   "metadata": {
    "hidden": true
   },
   "source": [
    "There's no NaN values to fill."
   ]
  },
  {
   "cell_type": "markdown",
   "metadata": {
    "hidden": true
   },
   "source": [
    "## 1.7 Change Data Type"
   ]
  },
  {
   "cell_type": "markdown",
   "metadata": {
    "hidden": true
   },
   "source": [
    " I will change the values 0 and 1 to 'yes' and 'no'. It'll help on the data description and analysis sections."
   ]
  },
  {
   "cell_type": "code",
   "execution_count": 15,
   "metadata": {
    "ExecuteTime": {
     "end_time": "2021-01-11T18:47:39.517461Z",
     "start_time": "2021-01-11T18:47:39.450119Z"
    },
    "hidden": true
   },
   "outputs": [],
   "source": [
    "df1['is_fraud'] = df1['is_fraud'].map({1: 'yes', 0: 'no'})\n",
    "df1['is_flagged_fraud'] = df1['is_flagged_fraud'].map({1: 'yes', 0: 'no'})"
   ]
  },
  {
   "cell_type": "markdown",
   "metadata": {
    "hidden": true
   },
   "source": [
    "## 1.8 Description Statistics"
   ]
  },
  {
   "cell_type": "code",
   "execution_count": 16,
   "metadata": {
    "ExecuteTime": {
     "end_time": "2021-01-11T18:47:39.985703Z",
     "start_time": "2021-01-11T18:47:39.840317Z"
    },
    "hidden": true
   },
   "outputs": [],
   "source": [
    "num_attributes = df1.select_dtypes(exclude='object')\n",
    "cat_attributes = df1.select_dtypes(include='object')"
   ]
  },
  {
   "cell_type": "markdown",
   "metadata": {
    "hidden": true
   },
   "source": [
    "### 1.8.1 Numerical Attributes"
   ]
  },
  {
   "cell_type": "code",
   "execution_count": 17,
   "metadata": {
    "ExecuteTime": {
     "end_time": "2021-01-11T18:47:40.716577Z",
     "start_time": "2021-01-11T18:47:40.217657Z"
    },
    "hidden": true
   },
   "outputs": [
    {
     "data": {
      "text/html": [
       "<div>\n",
       "<style scoped>\n",
       "    .dataframe tbody tr th:only-of-type {\n",
       "        vertical-align: middle;\n",
       "    }\n",
       "\n",
       "    .dataframe tbody tr th {\n",
       "        vertical-align: top;\n",
       "    }\n",
       "\n",
       "    .dataframe thead th {\n",
       "        text-align: right;\n",
       "    }\n",
       "</style>\n",
       "<table border=\"1\" class=\"dataframe\">\n",
       "  <thead>\n",
       "    <tr style=\"text-align: right;\">\n",
       "      <th></th>\n",
       "      <th>count</th>\n",
       "      <th>mean</th>\n",
       "      <th>std</th>\n",
       "      <th>min</th>\n",
       "      <th>25%</th>\n",
       "      <th>50%</th>\n",
       "      <th>75%</th>\n",
       "      <th>max</th>\n",
       "      <th>range</th>\n",
       "      <th>variation coefficient</th>\n",
       "      <th>skew</th>\n",
       "      <th>kurtosis</th>\n",
       "    </tr>\n",
       "  </thead>\n",
       "  <tbody>\n",
       "    <tr>\n",
       "      <th>step</th>\n",
       "      <td>636262.0</td>\n",
       "      <td>2.429319e+02</td>\n",
       "      <td>1.423309e+02</td>\n",
       "      <td>1.0</td>\n",
       "      <td>155.000</td>\n",
       "      <td>238.000</td>\n",
       "      <td>3.340000e+02</td>\n",
       "      <td>7.420000e+02</td>\n",
       "      <td>7.410000e+02</td>\n",
       "      <td>0.585888</td>\n",
       "      <td>0.375052</td>\n",
       "      <td>0.324437</td>\n",
       "    </tr>\n",
       "    <tr>\n",
       "      <th>amount</th>\n",
       "      <td>636262.0</td>\n",
       "      <td>1.800585e+05</td>\n",
       "      <td>6.069714e+05</td>\n",
       "      <td>0.0</td>\n",
       "      <td>13407.425</td>\n",
       "      <td>74815.770</td>\n",
       "      <td>2.084988e+05</td>\n",
       "      <td>5.722962e+07</td>\n",
       "      <td>5.722962e+07</td>\n",
       "      <td>3.370967</td>\n",
       "      <td>29.577107</td>\n",
       "      <td>1546.661043</td>\n",
       "    </tr>\n",
       "    <tr>\n",
       "      <th>oldbalance_org</th>\n",
       "      <td>636262.0</td>\n",
       "      <td>8.317937e+05</td>\n",
       "      <td>2.885636e+06</td>\n",
       "      <td>0.0</td>\n",
       "      <td>0.000</td>\n",
       "      <td>14239.000</td>\n",
       "      <td>1.072998e+05</td>\n",
       "      <td>4.368662e+07</td>\n",
       "      <td>4.368662e+07</td>\n",
       "      <td>3.469173</td>\n",
       "      <td>5.243428</td>\n",
       "      <td>32.766036</td>\n",
       "    </tr>\n",
       "    <tr>\n",
       "      <th>newbalance_orig</th>\n",
       "      <td>636262.0</td>\n",
       "      <td>8.528354e+05</td>\n",
       "      <td>2.921296e+06</td>\n",
       "      <td>0.0</td>\n",
       "      <td>0.000</td>\n",
       "      <td>0.000</td>\n",
       "      <td>1.435652e+05</td>\n",
       "      <td>4.367380e+07</td>\n",
       "      <td>4.367380e+07</td>\n",
       "      <td>3.425393</td>\n",
       "      <td>5.173614</td>\n",
       "      <td>31.932547</td>\n",
       "    </tr>\n",
       "    <tr>\n",
       "      <th>oldbalance_dest</th>\n",
       "      <td>636262.0</td>\n",
       "      <td>1.096212e+06</td>\n",
       "      <td>3.375389e+06</td>\n",
       "      <td>0.0</td>\n",
       "      <td>0.000</td>\n",
       "      <td>131539.745</td>\n",
       "      <td>9.384820e+05</td>\n",
       "      <td>3.551855e+08</td>\n",
       "      <td>3.551855e+08</td>\n",
       "      <td>3.079138</td>\n",
       "      <td>20.622388</td>\n",
       "      <td>1074.335293</td>\n",
       "    </tr>\n",
       "    <tr>\n",
       "      <th>newbalance_dest</th>\n",
       "      <td>636262.0</td>\n",
       "      <td>1.221809e+06</td>\n",
       "      <td>3.656213e+06</td>\n",
       "      <td>0.0</td>\n",
       "      <td>0.000</td>\n",
       "      <td>214712.725</td>\n",
       "      <td>1.109230e+06</td>\n",
       "      <td>3.555534e+08</td>\n",
       "      <td>3.555534e+08</td>\n",
       "      <td>2.992460</td>\n",
       "      <td>19.623903</td>\n",
       "      <td>928.694204</td>\n",
       "    </tr>\n",
       "  </tbody>\n",
       "</table>\n",
       "</div>"
      ],
      "text/plain": [
       "                    count          mean           std  min        25%         50%           75%           max         range  variation coefficient       skew     kurtosis\n",
       "step             636262.0  2.429319e+02  1.423309e+02  1.0    155.000     238.000  3.340000e+02  7.420000e+02  7.410000e+02               0.585888   0.375052     0.324437\n",
       "amount           636262.0  1.800585e+05  6.069714e+05  0.0  13407.425   74815.770  2.084988e+05  5.722962e+07  5.722962e+07               3.370967  29.577107  1546.661043\n",
       "oldbalance_org   636262.0  8.317937e+05  2.885636e+06  0.0      0.000   14239.000  1.072998e+05  4.368662e+07  4.368662e+07               3.469173   5.243428    32.766036\n",
       "newbalance_orig  636262.0  8.528354e+05  2.921296e+06  0.0      0.000       0.000  1.435652e+05  4.367380e+07  4.367380e+07               3.425393   5.173614    31.932547\n",
       "oldbalance_dest  636262.0  1.096212e+06  3.375389e+06  0.0      0.000  131539.745  9.384820e+05  3.551855e+08  3.551855e+08               3.079138  20.622388  1074.335293\n",
       "newbalance_dest  636262.0  1.221809e+06  3.656213e+06  0.0      0.000  214712.725  1.109230e+06  3.555534e+08  3.555534e+08               2.992460  19.623903   928.694204"
      ]
     },
     "execution_count": 17,
     "metadata": {},
     "output_type": "execute_result"
    }
   ],
   "source": [
    "describe = num_attributes.describe().T\n",
    "\n",
    "describe['range'] = (num_attributes.max() - num_attributes.min()).tolist()\n",
    "describe['variation coefficient'] = (num_attributes.std() / num_attributes.mean()).tolist()\n",
    "describe['skew'] = num_attributes.skew().tolist()\n",
    "describe['kurtosis'] = num_attributes.kurtosis().tolist()\n",
    "\n",
    "describe"
   ]
  },
  {
   "cell_type": "markdown",
   "metadata": {
    "hidden": true
   },
   "source": [
    "* All the data has a coeficient of variation greater than 25%, therefore they aren't homogeneous.\n",
    "\n",
    "* The step variable starts from 1 hour to 742 hour (30 days).\n",
    "\n",
    "* Some variables are higher shap and right skewed.\n",
    "\n",
    "* 50% of the newbalance_orig is 0. Maybe there are some transfers that don't go to the destination.\n",
    "\n",
    "* The skew is higher positive, therefore the values may be in less values."
   ]
  },
  {
   "cell_type": "markdown",
   "metadata": {
    "hidden": true
   },
   "source": [
    "### 1.8.2 Categorical Attributes"
   ]
  },
  {
   "cell_type": "code",
   "execution_count": 18,
   "metadata": {
    "ExecuteTime": {
     "end_time": "2021-01-11T18:47:42.821513Z",
     "start_time": "2021-01-11T18:47:40.809829Z"
    },
    "hidden": true
   },
   "outputs": [
    {
     "data": {
      "text/html": [
       "<div>\n",
       "<style scoped>\n",
       "    .dataframe tbody tr th:only-of-type {\n",
       "        vertical-align: middle;\n",
       "    }\n",
       "\n",
       "    .dataframe tbody tr th {\n",
       "        vertical-align: top;\n",
       "    }\n",
       "\n",
       "    .dataframe thead th {\n",
       "        text-align: right;\n",
       "    }\n",
       "</style>\n",
       "<table border=\"1\" class=\"dataframe\">\n",
       "  <thead>\n",
       "    <tr style=\"text-align: right;\">\n",
       "      <th></th>\n",
       "      <th>type</th>\n",
       "      <th>name_orig</th>\n",
       "      <th>name_dest</th>\n",
       "      <th>is_fraud</th>\n",
       "      <th>is_flagged_fraud</th>\n",
       "    </tr>\n",
       "  </thead>\n",
       "  <tbody>\n",
       "    <tr>\n",
       "      <th>count</th>\n",
       "      <td>636262</td>\n",
       "      <td>636262</td>\n",
       "      <td>636262</td>\n",
       "      <td>636262</td>\n",
       "      <td>636262</td>\n",
       "    </tr>\n",
       "    <tr>\n",
       "      <th>unique</th>\n",
       "      <td>5</td>\n",
       "      <td>636171</td>\n",
       "      <td>457224</td>\n",
       "      <td>2</td>\n",
       "      <td>2</td>\n",
       "    </tr>\n",
       "    <tr>\n",
       "      <th>top</th>\n",
       "      <td>CASH_OUT</td>\n",
       "      <td>C334643493</td>\n",
       "      <td>C2083562754</td>\n",
       "      <td>no</td>\n",
       "      <td>no</td>\n",
       "    </tr>\n",
       "    <tr>\n",
       "      <th>freq</th>\n",
       "      <td>224216</td>\n",
       "      <td>2</td>\n",
       "      <td>14</td>\n",
       "      <td>635441</td>\n",
       "      <td>636260</td>\n",
       "    </tr>\n",
       "  </tbody>\n",
       "</table>\n",
       "</div>"
      ],
      "text/plain": [
       "            type   name_orig    name_dest is_fraud is_flagged_fraud\n",
       "count     636262      636262       636262   636262           636262\n",
       "unique         5      636171       457224        2                2\n",
       "top     CASH_OUT  C334643493  C2083562754       no               no\n",
       "freq      224216           2           14   635441           636260"
      ]
     },
     "execution_count": 18,
     "metadata": {},
     "output_type": "execute_result"
    }
   ],
   "source": [
    "cat_attributes.describe()"
   ]
  },
  {
   "cell_type": "markdown",
   "metadata": {
    "hidden": true
   },
   "source": [
    "* The majority type is cash_out with 2237500.\n",
    "\n",
    "* There's a lot of variability in name_orig, so it could be hard to use one hot encoding.\n",
    "\n",
    "* There's less name_orig than name_dest. There's more users sending than receiving, however use one hot encoding will not help.\n",
    "\n",
    "* There's more fraud than the flagged fraud, it shows that the current method can't recognize fraud efficiently."
   ]
  },
  {
   "cell_type": "markdown",
   "metadata": {
    "heading_collapsed": true
   },
   "source": [
    "# 2.0 Feature Engineering"
   ]
  },
  {
   "cell_type": "code",
   "execution_count": 19,
   "metadata": {
    "ExecuteTime": {
     "end_time": "2021-01-11T18:47:42.876765Z",
     "start_time": "2021-01-11T18:47:42.823469Z"
    },
    "hidden": true
   },
   "outputs": [],
   "source": [
    "df2 = df1.copy()"
   ]
  },
  {
   "cell_type": "markdown",
   "metadata": {
    "hidden": true
   },
   "source": [
    "## 2.1 Mind Map"
   ]
  },
  {
   "cell_type": "code",
   "execution_count": 20,
   "metadata": {
    "ExecuteTime": {
     "end_time": "2021-01-11T18:47:42.884372Z",
     "start_time": "2021-01-11T18:47:42.878669Z"
    },
    "hidden": true
   },
   "outputs": [
    {
     "ename": "FileNotFoundError",
     "evalue": "No such file or directory: '../images/Fraud-mindmap.png'",
     "output_type": "error",
     "traceback": [
      "\u001b[1;31m---------------------------------------------------------------------------\u001b[0m",
      "\u001b[1;31mTypeError\u001b[0m                                 Traceback (most recent call last)",
      "File \u001b[1;32mc:\\Users\\Sahil Khan\\anaconda3\\lib\\site-packages\\IPython\\core\\display.py:1032\u001b[0m, in \u001b[0;36mImage._data_and_metadata\u001b[1;34m(self, always_both)\u001b[0m\n\u001b[0;32m   1031\u001b[0m \u001b[38;5;28;01mtry\u001b[39;00m:\n\u001b[1;32m-> 1032\u001b[0m     b64_data \u001b[38;5;241m=\u001b[39m \u001b[43mb2a_base64\u001b[49m\u001b[43m(\u001b[49m\u001b[38;5;28;43mself\u001b[39;49m\u001b[38;5;241;43m.\u001b[39;49m\u001b[43mdata\u001b[49m\u001b[43m)\u001b[49m\u001b[38;5;241m.\u001b[39mdecode(\u001b[38;5;124m'\u001b[39m\u001b[38;5;124mascii\u001b[39m\u001b[38;5;124m'\u001b[39m)\n\u001b[0;32m   1033\u001b[0m \u001b[38;5;28;01mexcept\u001b[39;00m \u001b[38;5;167;01mTypeError\u001b[39;00m \u001b[38;5;28;01mas\u001b[39;00m e:\n",
      "\u001b[1;31mTypeError\u001b[0m: a bytes-like object is required, not 'str'",
      "\nThe above exception was the direct cause of the following exception:\n",
      "\u001b[1;31mFileNotFoundError\u001b[0m                         Traceback (most recent call last)",
      "File \u001b[1;32mc:\\Users\\Sahil Khan\\anaconda3\\lib\\site-packages\\IPython\\core\\formatters.py:973\u001b[0m, in \u001b[0;36mMimeBundleFormatter.__call__\u001b[1;34m(self, obj, include, exclude)\u001b[0m\n\u001b[0;32m    970\u001b[0m     method \u001b[38;5;241m=\u001b[39m get_real_method(obj, \u001b[38;5;28mself\u001b[39m\u001b[38;5;241m.\u001b[39mprint_method)\n\u001b[0;32m    972\u001b[0m     \u001b[38;5;28;01mif\u001b[39;00m method \u001b[38;5;129;01mis\u001b[39;00m \u001b[38;5;129;01mnot\u001b[39;00m \u001b[38;5;28;01mNone\u001b[39;00m:\n\u001b[1;32m--> 973\u001b[0m         \u001b[38;5;28;01mreturn\u001b[39;00m \u001b[43mmethod\u001b[49m\u001b[43m(\u001b[49m\u001b[43minclude\u001b[49m\u001b[38;5;241;43m=\u001b[39;49m\u001b[43minclude\u001b[49m\u001b[43m,\u001b[49m\u001b[43m \u001b[49m\u001b[43mexclude\u001b[49m\u001b[38;5;241;43m=\u001b[39;49m\u001b[43mexclude\u001b[49m\u001b[43m)\u001b[49m\n\u001b[0;32m    974\u001b[0m     \u001b[38;5;28;01mreturn\u001b[39;00m \u001b[38;5;28;01mNone\u001b[39;00m\n\u001b[0;32m    975\u001b[0m \u001b[38;5;28;01melse\u001b[39;00m:\n",
      "File \u001b[1;32mc:\\Users\\Sahil Khan\\anaconda3\\lib\\site-packages\\IPython\\core\\display.py:1022\u001b[0m, in \u001b[0;36mImage._repr_mimebundle_\u001b[1;34m(self, include, exclude)\u001b[0m\n\u001b[0;32m   1020\u001b[0m \u001b[38;5;28;01mif\u001b[39;00m \u001b[38;5;28mself\u001b[39m\u001b[38;5;241m.\u001b[39membed:\n\u001b[0;32m   1021\u001b[0m     mimetype \u001b[38;5;241m=\u001b[39m \u001b[38;5;28mself\u001b[39m\u001b[38;5;241m.\u001b[39m_mimetype\n\u001b[1;32m-> 1022\u001b[0m     data, metadata \u001b[38;5;241m=\u001b[39m \u001b[38;5;28;43mself\u001b[39;49m\u001b[38;5;241;43m.\u001b[39;49m\u001b[43m_data_and_metadata\u001b[49m\u001b[43m(\u001b[49m\u001b[43malways_both\u001b[49m\u001b[38;5;241;43m=\u001b[39;49m\u001b[38;5;28;43;01mTrue\u001b[39;49;00m\u001b[43m)\u001b[49m\n\u001b[0;32m   1023\u001b[0m     \u001b[38;5;28;01mif\u001b[39;00m metadata:\n\u001b[0;32m   1024\u001b[0m         metadata \u001b[38;5;241m=\u001b[39m {mimetype: metadata}\n",
      "File \u001b[1;32mc:\\Users\\Sahil Khan\\anaconda3\\lib\\site-packages\\IPython\\core\\display.py:1034\u001b[0m, in \u001b[0;36mImage._data_and_metadata\u001b[1;34m(self, always_both)\u001b[0m\n\u001b[0;32m   1032\u001b[0m     b64_data \u001b[38;5;241m=\u001b[39m b2a_base64(\u001b[38;5;28mself\u001b[39m\u001b[38;5;241m.\u001b[39mdata)\u001b[38;5;241m.\u001b[39mdecode(\u001b[38;5;124m'\u001b[39m\u001b[38;5;124mascii\u001b[39m\u001b[38;5;124m'\u001b[39m)\n\u001b[0;32m   1033\u001b[0m \u001b[38;5;28;01mexcept\u001b[39;00m \u001b[38;5;167;01mTypeError\u001b[39;00m \u001b[38;5;28;01mas\u001b[39;00m e:\n\u001b[1;32m-> 1034\u001b[0m     \u001b[38;5;28;01mraise\u001b[39;00m \u001b[38;5;167;01mFileNotFoundError\u001b[39;00m(\n\u001b[0;32m   1035\u001b[0m         \u001b[38;5;124m\"\u001b[39m\u001b[38;5;124mNo such file or directory: \u001b[39m\u001b[38;5;124m'\u001b[39m\u001b[38;5;132;01m%s\u001b[39;00m\u001b[38;5;124m'\u001b[39m\u001b[38;5;124m\"\u001b[39m \u001b[38;5;241m%\u001b[39m (\u001b[38;5;28mself\u001b[39m\u001b[38;5;241m.\u001b[39mdata)) \u001b[38;5;28;01mfrom\u001b[39;00m \u001b[38;5;21;01me\u001b[39;00m\n\u001b[0;32m   1036\u001b[0m md \u001b[38;5;241m=\u001b[39m {}\n\u001b[0;32m   1037\u001b[0m \u001b[38;5;28;01mif\u001b[39;00m \u001b[38;5;28mself\u001b[39m\u001b[38;5;241m.\u001b[39mmetadata:\n",
      "\u001b[1;31mFileNotFoundError\u001b[0m: No such file or directory: '../images/Fraud-mindmap.png'"
     ]
    },
    {
     "ename": "FileNotFoundError",
     "evalue": "No such file or directory: '../images/Fraud-mindmap.png'",
     "output_type": "error",
     "traceback": [
      "\u001b[1;31m---------------------------------------------------------------------------\u001b[0m",
      "\u001b[1;31mTypeError\u001b[0m                                 Traceback (most recent call last)",
      "File \u001b[1;32mc:\\Users\\Sahil Khan\\anaconda3\\lib\\site-packages\\IPython\\core\\display.py:1032\u001b[0m, in \u001b[0;36mImage._data_and_metadata\u001b[1;34m(self, always_both)\u001b[0m\n\u001b[0;32m   1031\u001b[0m \u001b[38;5;28;01mtry\u001b[39;00m:\n\u001b[1;32m-> 1032\u001b[0m     b64_data \u001b[38;5;241m=\u001b[39m \u001b[43mb2a_base64\u001b[49m\u001b[43m(\u001b[49m\u001b[38;5;28;43mself\u001b[39;49m\u001b[38;5;241;43m.\u001b[39;49m\u001b[43mdata\u001b[49m\u001b[43m)\u001b[49m\u001b[38;5;241m.\u001b[39mdecode(\u001b[38;5;124m'\u001b[39m\u001b[38;5;124mascii\u001b[39m\u001b[38;5;124m'\u001b[39m)\n\u001b[0;32m   1033\u001b[0m \u001b[38;5;28;01mexcept\u001b[39;00m \u001b[38;5;167;01mTypeError\u001b[39;00m \u001b[38;5;28;01mas\u001b[39;00m e:\n",
      "\u001b[1;31mTypeError\u001b[0m: a bytes-like object is required, not 'str'",
      "\nThe above exception was the direct cause of the following exception:\n",
      "\u001b[1;31mFileNotFoundError\u001b[0m                         Traceback (most recent call last)",
      "File \u001b[1;32mc:\\Users\\Sahil Khan\\anaconda3\\lib\\site-packages\\IPython\\core\\formatters.py:343\u001b[0m, in \u001b[0;36mBaseFormatter.__call__\u001b[1;34m(self, obj)\u001b[0m\n\u001b[0;32m    341\u001b[0m     method \u001b[38;5;241m=\u001b[39m get_real_method(obj, \u001b[38;5;28mself\u001b[39m\u001b[38;5;241m.\u001b[39mprint_method)\n\u001b[0;32m    342\u001b[0m     \u001b[38;5;28;01mif\u001b[39;00m method \u001b[38;5;129;01mis\u001b[39;00m \u001b[38;5;129;01mnot\u001b[39;00m \u001b[38;5;28;01mNone\u001b[39;00m:\n\u001b[1;32m--> 343\u001b[0m         \u001b[38;5;28;01mreturn\u001b[39;00m \u001b[43mmethod\u001b[49m\u001b[43m(\u001b[49m\u001b[43m)\u001b[49m\n\u001b[0;32m    344\u001b[0m     \u001b[38;5;28;01mreturn\u001b[39;00m \u001b[38;5;28;01mNone\u001b[39;00m\n\u001b[0;32m    345\u001b[0m \u001b[38;5;28;01melse\u001b[39;00m:\n",
      "File \u001b[1;32mc:\\Users\\Sahil Khan\\anaconda3\\lib\\site-packages\\IPython\\core\\display.py:1054\u001b[0m, in \u001b[0;36mImage._repr_png_\u001b[1;34m(self)\u001b[0m\n\u001b[0;32m   1052\u001b[0m \u001b[38;5;28;01mdef\u001b[39;00m \u001b[38;5;21m_repr_png_\u001b[39m(\u001b[38;5;28mself\u001b[39m):\n\u001b[0;32m   1053\u001b[0m     \u001b[38;5;28;01mif\u001b[39;00m \u001b[38;5;28mself\u001b[39m\u001b[38;5;241m.\u001b[39membed \u001b[38;5;129;01mand\u001b[39;00m \u001b[38;5;28mself\u001b[39m\u001b[38;5;241m.\u001b[39mformat \u001b[38;5;241m==\u001b[39m \u001b[38;5;28mself\u001b[39m\u001b[38;5;241m.\u001b[39m_FMT_PNG:\n\u001b[1;32m-> 1054\u001b[0m         \u001b[38;5;28;01mreturn\u001b[39;00m \u001b[38;5;28;43mself\u001b[39;49m\u001b[38;5;241;43m.\u001b[39;49m\u001b[43m_data_and_metadata\u001b[49m\u001b[43m(\u001b[49m\u001b[43m)\u001b[49m\n",
      "File \u001b[1;32mc:\\Users\\Sahil Khan\\anaconda3\\lib\\site-packages\\IPython\\core\\display.py:1034\u001b[0m, in \u001b[0;36mImage._data_and_metadata\u001b[1;34m(self, always_both)\u001b[0m\n\u001b[0;32m   1032\u001b[0m     b64_data \u001b[38;5;241m=\u001b[39m b2a_base64(\u001b[38;5;28mself\u001b[39m\u001b[38;5;241m.\u001b[39mdata)\u001b[38;5;241m.\u001b[39mdecode(\u001b[38;5;124m'\u001b[39m\u001b[38;5;124mascii\u001b[39m\u001b[38;5;124m'\u001b[39m)\n\u001b[0;32m   1033\u001b[0m \u001b[38;5;28;01mexcept\u001b[39;00m \u001b[38;5;167;01mTypeError\u001b[39;00m \u001b[38;5;28;01mas\u001b[39;00m e:\n\u001b[1;32m-> 1034\u001b[0m     \u001b[38;5;28;01mraise\u001b[39;00m \u001b[38;5;167;01mFileNotFoundError\u001b[39;00m(\n\u001b[0;32m   1035\u001b[0m         \u001b[38;5;124m\"\u001b[39m\u001b[38;5;124mNo such file or directory: \u001b[39m\u001b[38;5;124m'\u001b[39m\u001b[38;5;132;01m%s\u001b[39;00m\u001b[38;5;124m'\u001b[39m\u001b[38;5;124m\"\u001b[39m \u001b[38;5;241m%\u001b[39m (\u001b[38;5;28mself\u001b[39m\u001b[38;5;241m.\u001b[39mdata)) \u001b[38;5;28;01mfrom\u001b[39;00m \u001b[38;5;21;01me\u001b[39;00m\n\u001b[0;32m   1036\u001b[0m md \u001b[38;5;241m=\u001b[39m {}\n\u001b[0;32m   1037\u001b[0m \u001b[38;5;28;01mif\u001b[39;00m \u001b[38;5;28mself\u001b[39m\u001b[38;5;241m.\u001b[39mmetadata:\n",
      "\u001b[1;31mFileNotFoundError\u001b[0m: No such file or directory: '../images/Fraud-mindmap.png'"
     ]
    },
    {
     "data": {
      "text/plain": [
       "<IPython.core.display.Image object>"
      ]
     },
     "execution_count": 20,
     "metadata": {},
     "output_type": "execute_result"
    }
   ],
   "source": [
    "Image('../images/Fraud-mindmap.png')"
   ]
  },
  {
   "cell_type": "markdown",
   "metadata": {
    "hidden": true
   },
   "source": [
    "## 2.2 Hypothesis Creation"
   ]
  },
  {
   "cell_type": "markdown",
   "metadata": {
    "hidden": true
   },
   "source": [
    "### 2.2.1 User"
   ]
  },
  {
   "cell_type": "markdown",
   "metadata": {
    "hidden": true
   },
   "source": [
    "* 90% of the twentyone-year-old users did a fraud transiction.\n",
    "\n",
    "* The majority fraud transiction occours for the same initial letter user.\n",
    "\n",
    "* The fraud amount is greater than 10.000.\n",
    "\n",
    "* The 60% of the age is greater than 30 year old."
   ]
  },
  {
   "cell_type": "markdown",
   "metadata": {
    "hidden": true
   },
   "source": [
    "### 2.2.2 Type"
   ]
  },
  {
   "cell_type": "markdown",
   "metadata": {
    "hidden": true
   },
   "source": [
    "* 60% of fraud transaction occours using cash-out-type method.\n",
    "\n",
    "* The majority transfers occours using tranfers-type method.\n",
    "\n",
    "* Values greater than 100.000 occours using transfers-type method.\n",
    "\n",
    "* Payment type occurs with values lower than 100.000"
   ]
  },
  {
   "cell_type": "markdown",
   "metadata": {
    "hidden": true
   },
   "source": [
    "### 2.2.3 Origin and Destiny Transactions"
   ]
  },
  {
   "cell_type": "markdown",
   "metadata": {
    "hidden": true
   },
   "source": [
    "* 60% of the difference between origin destiny transactions is equal 0 for frauds.\n",
    "\n",
    "* Origin values are greater than destiny values for fraud transaction."
   ]
  },
  {
   "cell_type": "markdown",
   "metadata": {
    "hidden": true
   },
   "source": [
    "### 2.2.4 Time"
   ]
  },
  {
   "cell_type": "markdown",
   "metadata": {
    "hidden": true
   },
   "source": [
    "* Fraud transactions occours at least in 3 days.\n",
    "\n",
    "* 40% of the cash-out transactions occours less than 1 day.\n",
    "\n",
    "* 60% of the transaction less than 100.000 occours at least 10 days.\n",
    "\n",
    "* The transactions greater than 10.000 occours at most in 2 weeks. "
   ]
  },
  {
   "cell_type": "markdown",
   "metadata": {
    "hidden": true
   },
   "source": [
    "## 2.3 Hipothesys List"
   ]
  },
  {
   "cell_type": "markdown",
   "metadata": {
    "hidden": true
   },
   "source": [
    "1. The majority fraud transiction occours for the same initial letter user.\n",
    "\n",
    "1. All the fraud amount is greater than 10.000.\n",
    "\n",
    "1. 60% of fraud transaction occours using cash-out-type method.\n",
    "\n",
    "1. The majority transfers occours using tranfers-type method.\n",
    "\n",
    "1. Fraud transactions occours at least in 3 days."
   ]
  },
  {
   "cell_type": "markdown",
   "metadata": {
    "hidden": true
   },
   "source": [
    "## 2.4 Feature Engineering"
   ]
  },
  {
   "cell_type": "code",
   "execution_count": 21,
   "metadata": {
    "ExecuteTime": {
     "end_time": "2021-01-11T18:47:44.922596Z",
     "start_time": "2021-01-11T18:47:43.999043Z"
    },
    "hidden": true
   },
   "outputs": [],
   "source": [
    "# step\n",
    "df2['step_days'] = df2['step'].apply(lambda i: i/24)\n",
    "df2['step_weeks'] = df2['step'].apply(lambda i: i/(24*7))\n",
    "\n",
    "# difference between initial balance before the transaction and new balance after the transaction\n",
    "df2['diff_new_old_balance'] = df2['newbalance_orig'] - df2['oldbalance_org']\n",
    "\n",
    "# difference between initial balance recipient before the transaction and new balance recipient after the transaction.\n",
    "df2['diff_new_old_destiny'] = df2['newbalance_dest'] - df2['oldbalance_dest']\n",
    "\n",
    "# name orig and name dest\n",
    "df2['name_orig'] = df2['name_orig'].apply(lambda i: i[0])\n",
    "df2['name_dest'] = df2['name_dest'].apply(lambda i: i[0])"
   ]
  },
  {
   "cell_type": "markdown",
   "metadata": {
    "heading_collapsed": true
   },
   "source": [
    "# 3.0 Selecting Columns"
   ]
  },
  {
   "cell_type": "code",
   "execution_count": 22,
   "metadata": {
    "ExecuteTime": {
     "end_time": "2021-01-11T18:47:44.957038Z",
     "start_time": "2021-01-11T18:47:44.924834Z"
    },
    "hidden": true
   },
   "outputs": [],
   "source": [
    "df3 = df2.copy()"
   ]
  },
  {
   "cell_type": "markdown",
   "metadata": {
    "hidden": true
   },
   "source": [
    "## 3.1 Selecting Columns"
   ]
  },
  {
   "cell_type": "markdown",
   "metadata": {
    "hidden": true
   },
   "source": [
    "I'll use all the columns for data analysis"
   ]
  },
  {
   "cell_type": "markdown",
   "metadata": {
    "hidden": true
   },
   "source": [
    "## 3.2 Selecting Lines"
   ]
  },
  {
   "cell_type": "markdown",
   "metadata": {
    "hidden": true
   },
   "source": [
    "I'll use all the lines."
   ]
  },
  {
   "cell_type": "markdown",
   "metadata": {
    "heading_collapsed": true
   },
   "source": [
    "# 4.0 Exploratory Data Analisys"
   ]
  },
  {
   "cell_type": "code",
   "execution_count": 23,
   "metadata": {
    "ExecuteTime": {
     "end_time": "2021-01-11T18:47:45.536329Z",
     "start_time": "2021-01-11T18:47:45.479614Z"
    },
    "hidden": true
   },
   "outputs": [],
   "source": [
    "df4 = df3.copy()"
   ]
  },
  {
   "cell_type": "markdown",
   "metadata": {
    "hidden": true
   },
   "source": [
    "## 4.1 Univariate Analysis"
   ]
  },
  {
   "cell_type": "markdown",
   "metadata": {
    "hidden": true
   },
   "source": [
    "### 4.1.1 Response Variable"
   ]
  },
  {
   "cell_type": "code",
   "execution_count": 24,
   "metadata": {
    "ExecuteTime": {
     "end_time": "2021-01-11T18:47:46.652434Z",
     "start_time": "2021-01-11T18:47:46.010096Z"
    },
    "hidden": true
   },
   "outputs": [
    {
     "data": {
      "image/png": "[encoded data removed]",
      "text/plain": [
       "<Figure size 1800x864 with 1 Axes>"
      ]
     },
     "metadata": {},
     "output_type": "display_data"
    }
   ],
   "source": [
    "ax = sns.countplot(y='is_fraud', data=df4);\n",
    "\n",
    "total = df4['is_fraud'].size\n",
    "for p in ax.patches:\n",
    "        percentage = ' {:.1f}%'.format(100 * p.get_width()/total)\n",
    "        x = p.get_x() + p.get_width() + 0.02\n",
    "        y = p.get_y() + p.get_height()/2\n",
    "        ax.annotate(percentage, (x, y))"
   ]
  },
  {
   "cell_type": "markdown",
   "metadata": {
    "hidden": true
   },
   "source": [
    "### 4.1.2 Numerical Variables"
   ]
  },
  {
   "cell_type": "code",
   "execution_count": 25,
   "metadata": {
    "ExecuteTime": {
     "end_time": "2021-01-11T18:48:13.254494Z",
     "start_time": "2021-01-11T18:47:46.656150Z"
    },
    "hidden": true
   },
   "outputs": [
    {
     "data": {
      "image/png": "[encoded data removed]",
      "text/plain": [
       "<Figure size 1800x864 with 10 Axes>"
      ]
     },
     "metadata": {},
     "output_type": "display_data"
    }
   ],
   "source": [
    "num_attributes = df4.select_dtypes(exclude='object')\n",
    "columns = num_attributes.columns.tolist()\n",
    "j = 1\n",
    "\n",
    "for column in columns:\n",
    "    plt.subplot(2, 5, j)\n",
    "    sns.distplot(num_attributes[column]);\n",
    "    \n",
    "    j += 1"
   ]
  },
  {
   "cell_type": "markdown",
   "metadata": {
    "hidden": true
   },
   "source": [
    "### 4.1.3 Categorical Variables"
   ]
  },
  {
   "cell_type": "code",
   "execution_count": 26,
   "metadata": {
    "ExecuteTime": {
     "end_time": "2021-01-11T18:48:15.988749Z",
     "start_time": "2021-01-11T18:48:13.257365Z"
    },
    "hidden": true
   },
   "outputs": [
    {
     "data": {
      "image/png": "[encoded data removed]",
      "text/plain": [
       "<Figure size 1800x864 with 5 Axes>"
      ]
     },
     "metadata": {},
     "output_type": "display_data"
    }
   ],
   "source": [
    "cat_attributes = df4.select_dtypes(include='object')\n",
    "columns = cat_attributes.columns.tolist()\n",
    "j = 1\n",
    "\n",
    "for column in columns:\n",
    "    plt.subplot(3, 2, j)\n",
    "    ax = sns.countplot(y=column, data=cat_attributes)\n",
    "    \n",
    "    total = cat_attributes[column].size\n",
    "    for p in ax.patches:\n",
    "        percentage = ' {:.1f}%'.format(100 * p.get_width()/total)\n",
    "        x = p.get_x() + p.get_width() + 0.02\n",
    "        y = p.get_y() + p.get_height()/2\n",
    "        ax.annotate(percentage, (x, y))\n",
    "    \n",
    "    j += 1"
   ]
  },
  {
   "cell_type": "markdown",
   "metadata": {
    "hidden": true
   },
   "source": [
    "## 4.2 Bivariate Analysis"
   ]
  },
  {
   "cell_type": "markdown",
   "metadata": {
    "hidden": true
   },
   "source": [
    "### H1 The majority fraud transiction occours for the same user.\n",
    "**TRUE:** The same user origem and destiny has got the same inital letter."
   ]
  },
  {
   "cell_type": "code",
   "execution_count": 27,
   "metadata": {
    "ExecuteTime": {
     "end_time": "2021-01-11T18:48:16.333520Z",
     "start_time": "2021-01-11T18:48:15.991520Z"
    },
    "hidden": true
   },
   "outputs": [
    {
     "data": {
      "image/png": "[encoded data removed]",
      "text/plain": [
       "<Figure size 1800x864 with 1 Axes>"
      ]
     },
     "metadata": {},
     "output_type": "display_data"
    }
   ],
   "source": [
    "aux1 = df4[df4['is_fraud'] == 'yes']\n",
    "sns.countplot(y='name_orig', data=aux1);"
   ]
  },
  {
   "cell_type": "code",
   "execution_count": 28,
   "metadata": {
    "ExecuteTime": {
     "end_time": "2021-01-11T18:48:16.577943Z",
     "start_time": "2021-01-11T18:48:16.336607Z"
    },
    "hidden": true
   },
   "outputs": [
    {
     "data": {
      "image/png": "[encoded data removed]",
      "text/plain": [
       "<Figure size 1800x864 with 1 Axes>"
      ]
     },
     "metadata": {},
     "output_type": "display_data"
    }
   ],
   "source": [
    "sns.countplot(y='name_dest', data=aux1);"
   ]
  },
  {
   "cell_type": "markdown",
   "metadata": {
    "hidden": true
   },
   "source": [
    "### H2 All the fraud amount is greater than 10.000.\n",
    "\n",
    "**TRUE:** The values are greater than 10.000. But it's important to note that the no-fraud values is greater than 100.000 also."
   ]
  },
  {
   "cell_type": "code",
   "execution_count": 29,
   "metadata": {
    "ExecuteTime": {
     "end_time": "2021-01-11T18:48:38.633178Z",
     "start_time": "2021-01-11T18:48:16.580551Z"
    },
    "hidden": true
   },
   "outputs": [
    {
     "data": {
      "image/png": "[encoded data removed]",
      "text/plain": [
       "<Figure size 1800x864 with 1 Axes>"
      ]
     },
     "metadata": {},
     "output_type": "display_data"
    }
   ],
   "source": [
    "sns.barplot(y='amount', x='is_fraud', data=df4);"
   ]
  },
  {
   "cell_type": "markdown",
   "metadata": {
    "hidden": true
   },
   "source": [
    "### H3 60% of fraud transaction occours using cash-out-type method.\n",
    "\n",
    "**FALSE:** The fraud transaction occours in transfer and cash-out type. However they're almost the same value."
   ]
  },
  {
   "cell_type": "code",
   "execution_count": 30,
   "metadata": {
    "ExecuteTime": {
     "end_time": "2021-01-11T18:48:38.986355Z",
     "start_time": "2021-01-11T18:48:38.637113Z"
    },
    "hidden": true
   },
   "outputs": [
    {
     "data": {
      "image/png": "[encoded data removed]",
      "text/plain": [
       "<Figure size 1800x864 with 1 Axes>"
      ]
     },
     "metadata": {},
     "output_type": "display_data"
    }
   ],
   "source": [
    "aux1 = df4[df4['is_fraud'] == 'yes']\n",
    "ax = sns.countplot(y='type', data=aux1)\n",
    "\n",
    "total = aux1['type'].size\n",
    "for p in ax.patches:\n",
    "        percentage = ' {:.1f}%'.format(100 * p.get_width()/total)\n",
    "        x = p.get_x() + p.get_width() + 0.02\n",
    "        y = p.get_y() + p.get_height()/2\n",
    "        ax.annotate(percentage, (x, y))"
   ]
  },
  {
   "cell_type": "markdown",
   "metadata": {
    "hidden": true
   },
   "source": [
    "To see the complete transiction-type and I'll plot them here."
   ]
  },
  {
   "cell_type": "code",
   "execution_count": 31,
   "metadata": {
    "ExecuteTime": {
     "end_time": "2021-01-11T18:48:39.986516Z",
     "start_time": "2021-01-11T18:48:38.989749Z"
    },
    "hidden": true
   },
   "outputs": [
    {
     "data": {
      "image/png": "[encoded data removed]",
      "text/plain": [
       "<Figure size 1800x864 with 1 Axes>"
      ]
     },
     "metadata": {},
     "output_type": "display_data"
    }
   ],
   "source": [
    "ax = sns.countplot(y='type', hue='is_fraud', data=df4)\n",
    "\n",
    "total = df4['type'].size\n",
    "for p in ax.patches:\n",
    "        percentage = ' {:.1f}%'.format(100 * p.get_width()/total)\n",
    "        x = p.get_x() + p.get_width() + 0.02\n",
    "        y = p.get_y() + p.get_height()/2\n",
    "        ax.annotate(percentage, (x, y))"
   ]
  },
  {
   "cell_type": "markdown",
   "metadata": {
    "hidden": true
   },
   "source": [
    "### H4 Values greater than 100.000 occours using transfers-type method.\n",
    "\n",
    "**FALSE:** The majority transactions occours in trasnfer-type, however transactions greater than 100.000 occour in cash-out and cash-in too."
   ]
  },
  {
   "cell_type": "code",
   "execution_count": 32,
   "metadata": {
    "ExecuteTime": {
     "end_time": "2021-01-11T18:48:50.994068Z",
     "start_time": "2021-01-11T18:48:39.989305Z"
    },
    "hidden": true
   },
   "outputs": [
    {
     "data": {
      "image/png": "[encoded data removed]",
      "text/plain": [
       "<Figure size 1800x864 with 1 Axes>"
      ]
     },
     "metadata": {},
     "output_type": "display_data"
    }
   ],
   "source": [
    "ax = sns.barplot(y='type', x='amount', data=df4);\n",
    "\n",
    "total = df4['type'].size\n",
    "for p in ax.patches:\n",
    "        percentage = ' {:.1f}%'.format(100 * p.get_width()/total)\n",
    "        x = p.get_x() + p.get_width() + 0.02\n",
    "        y = p.get_y() + p.get_height()/2\n",
    "        ax.annotate(percentage, (x, y))"
   ]
  },
  {
   "cell_type": "markdown",
   "metadata": {
    "hidden": true
   },
   "source": [
    "### H5 Fraud transactions occours at least in 3 days.\n",
    "\n",
    "**TRUE:** The values for transactions and days in fraud aren't similar."
   ]
  },
  {
   "cell_type": "code",
   "execution_count": 33,
   "metadata": {
    "ExecuteTime": {
     "end_time": "2021-01-11T18:48:51.755961Z",
     "start_time": "2021-01-11T18:48:50.996915Z"
    },
    "hidden": true
   },
   "outputs": [
    {
     "data": {
      "image/png": "[encoded data removed]",
      "text/plain": [
       "<Figure size 1800x864 with 1 Axes>"
      ]
     },
     "metadata": {},
     "output_type": "display_data"
    }
   ],
   "source": [
    "aux1 = df4[df4['is_fraud'] == 'yes']\n",
    "sns.regplot(x='step_days', y='amount', data=aux1);"
   ]
  },
  {
   "cell_type": "markdown",
   "metadata": {
    "hidden": true
   },
   "source": [
    "## 4.3 Multivariaty Analysis"
   ]
  },
  {
   "cell_type": "markdown",
   "metadata": {
    "hidden": true
   },
   "source": [
    "### 4.3.1 Numerical Analysis"
   ]
  },
  {
   "cell_type": "code",
   "execution_count": 34,
   "metadata": {
    "ExecuteTime": {
     "end_time": "2021-01-11T18:48:52.874628Z",
     "start_time": "2021-01-11T18:48:51.759338Z"
    },
    "hidden": true
   },
   "outputs": [
    {
     "data": {
      "image/png": "[encoded data removed]",
      "text/plain": [
       "<Figure size 1800x864 with 2 Axes>"
      ]
     },
     "metadata": {},
     "output_type": "display_data"
    }
   ],
   "source": [
    "corr = num_attributes.corr()\n",
    "\n",
    "mask = np.zeros_like(corr)\n",
    "mask[np.triu_indices_from(mask)] = True\n",
    "\n",
    "with sns.axes_style(\"white\"):\n",
    "    ax = sns.heatmap(corr, annot=True, mask=mask, vmin=-1, center=0, vmax=1, square=True)"
   ]
  },
  {
   "cell_type": "markdown",
   "metadata": {
    "hidden": true
   },
   "source": [
    "### 4.3.2 Categorical Variables"
   ]
  },
  {
   "cell_type": "code",
   "execution_count": 35,
   "metadata": {
    "ExecuteTime": {
     "end_time": "2021-01-11T18:48:56.147550Z",
     "start_time": "2021-01-11T18:48:52.876985Z"
    },
    "hidden": true
   },
   "outputs": [],
   "source": [
    "dict_corr = {}\n",
    "columns = cat_attributes.columns.tolist()\n",
    "\n",
    "for column in columns:\n",
    "    dict_corr[column] = {}\n",
    "    \n",
    "    for column2 in columns:\n",
    "        dict_corr[column][column2] = calcCramerV(cat_attributes[column], cat_attributes[column2])\n",
    "        \n",
    "corr = pd.DataFrame(dict_corr)"
   ]
  },
  {
   "cell_type": "code",
   "execution_count": 36,
   "metadata": {
    "ExecuteTime": {
     "end_time": "2021-01-11T18:48:56.593007Z",
     "start_time": "2021-01-11T18:48:56.149515Z"
    },
    "hidden": true
   },
   "outputs": [
    {
     "data": {
      "image/png": "[encoded data removed]",
      "text/plain": [
       "<Figure size 1800x864 with 2 Axes>"
      ]
     },
     "metadata": {},
     "output_type": "display_data"
    }
   ],
   "source": [
    "mask = np.zeros_like(corr)\n",
    "mask[np.triu_indices_from(mask)] = True\n",
    "\n",
    "with sns.axes_style(\"white\"):\n",
    "    ax = sns.heatmap(corr, annot=True, mask=mask, vmin=0, vmax=1, square=True)"
   ]
  },
  {
   "cell_type": "markdown",
   "metadata": {
    "heading_collapsed": true
   },
   "source": [
    "# 5.0 Data Preparation"
   ]
  },
  {
   "cell_type": "code",
   "execution_count": 37,
   "metadata": {
    "ExecuteTime": {
     "end_time": "2021-01-11T21:08:18.459835Z",
     "start_time": "2021-01-11T21:08:18.344976Z"
    },
    "hidden": true
   },
   "outputs": [],
   "source": [
    "df5 = df4.copy()"
   ]
  },
  {
   "cell_type": "markdown",
   "metadata": {
    "hidden": true
   },
   "source": [
    "## 5.1 Spliting into Train, Valid and Test"
   ]
  },
  {
   "cell_type": "code",
   "execution_count": 38,
   "metadata": {
    "ExecuteTime": {
     "end_time": "2021-01-11T21:08:28.207352Z",
     "start_time": "2021-01-11T21:08:28.110364Z"
    },
    "hidden": true
   },
   "outputs": [],
   "source": [
    "X = df5.drop(columns=['is_fraud', 'is_flagged_fraud', 'name_orig', 'name_dest', \n",
    "                      'step_weeks', 'step_days'], axis=1)\n",
    "y = df5['is_fraud'].map({'yes': 1, 'no': 0})"
   ]
  },
  {
   "cell_type": "code",
   "execution_count": 39,
   "metadata": {
    "ExecuteTime": {
     "end_time": "2021-01-11T21:08:29.045814Z",
     "start_time": "2021-01-11T21:08:28.582692Z"
    },
    "hidden": true
   },
   "outputs": [],
   "source": [
    "# spliting into temp and test\n",
    "X_temp, X_test, y_temp, y_test = train_test_split(X, y, test_size=.2, stratify=y)"
   ]
  },
  {
   "cell_type": "code",
   "execution_count": 40,
   "metadata": {
    "ExecuteTime": {
     "end_time": "2021-01-11T21:08:29.458292Z",
     "start_time": "2021-01-11T21:08:29.049935Z"
    },
    "hidden": true
   },
   "outputs": [],
   "source": [
    "# spliting into train and valid\n",
    "X_train, X_valid, y_train, y_valid = train_test_split(X_temp, y_temp, test_size=.2, stratify=y_temp)"
   ]
  },
  {
   "cell_type": "markdown",
   "metadata": {
    "hidden": true
   },
   "source": [
    "## 5.2 One Hot Encoder"
   ]
  },
  {
   "cell_type": "code",
   "execution_count": 41,
   "metadata": {
    "ExecuteTime": {
     "end_time": "2021-01-11T21:08:32.964462Z",
     "start_time": "2021-01-11T21:08:31.876822Z"
    },
    "hidden": true
   },
   "outputs": [],
   "source": [
    "ohe = OneHotEncoder(cols=['type'], use_cat_names=True)\n",
    "\n",
    "X_train = ohe.fit_transform(X_train)\n",
    "X_valid = ohe.transform(X_valid)\n",
    "\n",
    "X_temp = ohe.fit_transform(X_temp)\n",
    "X_test = ohe.transform(X_test)"
   ]
  },
  {
   "cell_type": "markdown",
   "metadata": {
    "hidden": true
   },
   "source": [
    "## 5.3 Rescaling"
   ]
  },
  {
   "cell_type": "code",
   "execution_count": 42,
   "metadata": {
    "ExecuteTime": {
     "end_time": "2021-01-11T18:49:00.603027Z",
     "start_time": "2021-01-11T18:48:59.044877Z"
    },
    "hidden": true
   },
   "outputs": [],
   "source": [
    "num_columns = ['amount', 'oldbalance_org', 'newbalance_orig', 'oldbalance_dest', 'newbalance_dest',\n",
    "               'diff_new_old_balance', 'diff_new_old_destiny']\n",
    "mm = MinMaxScaler()\n",
    "X_params = X_temp.copy()\n",
    "\n",
    "X_train[num_columns] = mm.fit_transform(X_train[num_columns])\n",
    "X_valid[num_columns] = mm.transform(X_valid[num_columns])\n",
    "\n",
    "X_params[num_columns] = mm.fit_transform(X_temp[num_columns])\n",
    "X_test[num_columns] = mm.transform(X_test[num_columns])"
   ]
  },
  {
   "cell_type": "markdown",
   "metadata": {
    "heading_collapsed": true
   },
   "source": [
    "# 6.0 Feature Selection"
   ]
  },
  {
   "cell_type": "markdown",
   "metadata": {
    "hidden": true
   },
   "source": [
    "## 6.1 Boruta"
   ]
  },
  {
   "cell_type": "code",
   "execution_count": 43,
   "metadata": {
    "ExecuteTime": {
     "end_time": "2021-01-11T18:49:09.114850Z",
     "start_time": "2021-01-11T18:49:09.111669Z"
    },
    "hidden": true
   },
   "outputs": [],
   "source": [
    "# X_boruta = X_params.values\n",
    "# y_boruta = y_temp.values.ravel()"
   ]
  },
  {
   "cell_type": "code",
   "execution_count": 44,
   "metadata": {
    "ExecuteTime": {
     "end_time": "2021-01-11T18:49:09.529190Z",
     "start_time": "2021-01-11T18:49:09.520638Z"
    },
    "hidden": true
   },
   "outputs": [],
   "source": [
    "# boruta = BorutaPy(RandomForestClassifier(), n_estimators='auto')\n",
    "# boruta.fit(X_boruta, y_boruta)"
   ]
  },
  {
   "cell_type": "markdown",
   "metadata": {
    "hidden": true
   },
   "source": [
    "### 6.1.1 Best Features"
   ]
  },
  {
   "cell_type": "code",
   "execution_count": 45,
   "metadata": {
    "ExecuteTime": {
     "end_time": "2021-01-11T18:49:10.256466Z",
     "start_time": "2021-01-11T18:49:10.250350Z"
    },
    "hidden": true
   },
   "outputs": [],
   "source": [
    "# cols_selected_boruta = boruta.support_.tolist()"
   ]
  },
  {
   "cell_type": "code",
   "execution_count": 46,
   "metadata": {
    "ExecuteTime": {
     "end_time": "2021-01-11T18:49:10.575397Z",
     "start_time": "2021-01-11T18:49:10.570081Z"
    },
    "hidden": true
   },
   "outputs": [],
   "source": [
    "# columns_selected = X_params.loc[:, cols_selected_boruta].columns.tolist()"
   ]
  },
  {
   "cell_type": "code",
   "execution_count": 47,
   "metadata": {
    "ExecuteTime": {
     "end_time": "2021-01-11T18:49:10.883715Z",
     "start_time": "2021-01-11T18:49:10.878218Z"
    },
    "hidden": true
   },
   "outputs": [],
   "source": [
    "# columns_selected"
   ]
  },
  {
   "cell_type": "code",
   "execution_count": 48,
   "metadata": {
    "ExecuteTime": {
     "end_time": "2021-01-11T18:49:11.303967Z",
     "start_time": "2021-01-11T18:49:11.301425Z"
    },
    "hidden": true
   },
   "outputs": [],
   "source": [
    "# ['step',\n",
    "#  'amount',\n",
    "#  'oldbalance_org',\n",
    "#  'newbalance_orig',\n",
    "#  'oldbalance_dest',\n",
    "#  'newbalance_dest',\n",
    "#  'diff_new_old_balance',\n",
    "#  'diff_new_old_destiny',\n",
    "#  'type_TRANSFER']"
   ]
  },
  {
   "cell_type": "code",
   "execution_count": 49,
   "metadata": {
    "ExecuteTime": {
     "end_time": "2021-01-11T18:49:11.686754Z",
     "start_time": "2021-01-11T18:49:11.682897Z"
    },
    "hidden": true
   },
   "outputs": [],
   "source": [
    "final_columns_selected = ['step', 'oldbalance_org', \n",
    "                          'newbalance_orig', 'newbalance_dest', \n",
    "                          'diff_new_old_balance', 'diff_new_old_destiny', \n",
    "                          'type_TRANSFER']"
   ]
  },
  {
   "cell_type": "markdown",
   "metadata": {
    "heading_collapsed": true
   },
   "source": [
    "# 7.0 Machine Learning Modeling"
   ]
  },
  {
   "cell_type": "code",
   "execution_count": 50,
   "metadata": {
    "ExecuteTime": {
     "end_time": "2021-01-11T18:49:15.589482Z",
     "start_time": "2021-01-11T18:49:15.542574Z"
    },
    "hidden": true
   },
   "outputs": [],
   "source": [
    "X_train_cs = X_train[final_columns_selected]\n",
    "X_valid_cs = X_valid[final_columns_selected]\n",
    "\n",
    "X_temp_cs = X_temp[final_columns_selected]\n",
    "X_test_cs = X_test[final_columns_selected]\n",
    "\n",
    "X_params_cs = X_params[final_columns_selected]"
   ]
  },
  {
   "cell_type": "markdown",
   "metadata": {
    "hidden": true
   },
   "source": [
    "## 7.1 Baseline"
   ]
  },
  {
   "cell_type": "code",
   "execution_count": 51,
   "metadata": {
    "ExecuteTime": {
     "end_time": "2021-01-11T18:49:16.207942Z",
     "start_time": "2021-01-11T18:49:16.165042Z"
    },
    "hidden": true
   },
   "outputs": [],
   "source": [
    "dummy = DummyClassifier()\n",
    "dummy.fit(X_train_cs, y_train)\n",
    "\n",
    "y_pred = dummy.predict(X_valid_cs)"
   ]
  },
  {
   "cell_type": "code",
   "execution_count": 52,
   "metadata": {
    "ExecuteTime": {
     "end_time": "2021-01-11T18:49:16.806621Z",
     "start_time": "2021-01-11T18:49:16.392671Z"
    },
    "hidden": true
   },
   "outputs": [
    {
     "data": {
      "text/html": [
       "<div>\n",
       "<style scoped>\n",
       "    .dataframe tbody tr th:only-of-type {\n",
       "        vertical-align: middle;\n",
       "    }\n",
       "\n",
       "    .dataframe tbody tr th {\n",
       "        vertical-align: top;\n",
       "    }\n",
       "\n",
       "    .dataframe thead th {\n",
       "        text-align: right;\n",
       "    }\n",
       "</style>\n",
       "<table border=\"1\" class=\"dataframe\">\n",
       "  <thead>\n",
       "    <tr style=\"text-align: right;\">\n",
       "      <th></th>\n",
       "      <th>Balanced Accuracy</th>\n",
       "      <th>Precision</th>\n",
       "      <th>Recall</th>\n",
       "      <th>F1</th>\n",
       "      <th>Kappa</th>\n",
       "    </tr>\n",
       "  </thead>\n",
       "  <tbody>\n",
       "    <tr>\n",
       "      <th>dummy</th>\n",
       "      <td>0.5</td>\n",
       "      <td>0.0</td>\n",
       "      <td>0.0</td>\n",
       "      <td>0.0</td>\n",
       "      <td>0.0</td>\n",
       "    </tr>\n",
       "  </tbody>\n",
       "</table>\n",
       "</div>"
      ],
      "text/plain": [
       "       Balanced Accuracy  Precision  Recall   F1  Kappa\n",
       "dummy                0.5        0.0     0.0  0.0    0.0"
      ]
     },
     "execution_count": 52,
     "metadata": {},
     "output_type": "execute_result"
    }
   ],
   "source": [
    "dummy_results = ml_scores('dummy', y_valid, y_pred)\n",
    "dummy_results"
   ]
  },
  {
   "cell_type": "markdown",
   "metadata": {
    "hidden": true
   },
   "source": [
    "### 7.1.1 Classification Report"
   ]
  },
  {
   "cell_type": "code",
   "execution_count": 53,
   "metadata": {
    "ExecuteTime": {
     "end_time": "2021-01-11T18:49:17.080288Z",
     "start_time": "2021-01-11T18:49:16.873841Z"
    },
    "hidden": true
   },
   "outputs": [
    {
     "name": "stdout",
     "output_type": "stream",
     "text": [
      "              precision    recall  f1-score   support\n",
      "\n",
      "           0       1.00      1.00      1.00    101671\n",
      "           1       0.00      0.00      0.00       131\n",
      "\n",
      "    accuracy                           1.00    101802\n",
      "   macro avg       0.50      0.50      0.50    101802\n",
      "weighted avg       1.00      1.00      1.00    101802\n",
      "\n"
     ]
    }
   ],
   "source": [
    "print(classification_report(y_valid, y_pred))"
   ]
  },
  {
   "cell_type": "markdown",
   "metadata": {
    "hidden": true
   },
   "source": [
    "### 7.1.2 Cross Validation"
   ]
  },
  {
   "cell_type": "code",
   "execution_count": 54,
   "metadata": {
    "ExecuteTime": {
     "end_time": "2021-01-11T18:49:20.042373Z",
     "start_time": "2021-01-11T18:49:17.255171Z"
    },
    "hidden": true
   },
   "outputs": [
    {
     "name": "stdout",
     "output_type": "stream",
     "text": [
      "Fold K=1\n",
      "Fold K=2\n",
      "Fold K=3\n",
      "Fold K=4\n",
      "Fold K=5\n"
     ]
    },
    {
     "data": {
      "text/html": [
       "<div>\n",
       "<style scoped>\n",
       "    .dataframe tbody tr th:only-of-type {\n",
       "        vertical-align: middle;\n",
       "    }\n",
       "\n",
       "    .dataframe tbody tr th {\n",
       "        vertical-align: top;\n",
       "    }\n",
       "\n",
       "    .dataframe thead th {\n",
       "        text-align: right;\n",
       "    }\n",
       "</style>\n",
       "<table border=\"1\" class=\"dataframe\">\n",
       "  <thead>\n",
       "    <tr style=\"text-align: right;\">\n",
       "      <th></th>\n",
       "      <th>Balanced Accuracy</th>\n",
       "      <th>Precision</th>\n",
       "      <th>Recall</th>\n",
       "      <th>F1</th>\n",
       "      <th>Kappa</th>\n",
       "    </tr>\n",
       "  </thead>\n",
       "  <tbody>\n",
       "    <tr>\n",
       "      <th>Dummy</th>\n",
       "      <td>0.5 +/- 0.0</td>\n",
       "      <td>0.0 +/- 0.0</td>\n",
       "      <td>0.0 +/- 0.0</td>\n",
       "      <td>0.0 +/- 0.0</td>\n",
       "      <td>0.0 +/- 0.0</td>\n",
       "    </tr>\n",
       "  </tbody>\n",
       "</table>\n",
       "</div>"
      ],
      "text/plain": [
       "      Balanced Accuracy    Precision       Recall           F1        Kappa\n",
       "Dummy       0.5 +/- 0.0  0.0 +/- 0.0  0.0 +/- 0.0  0.0 +/- 0.0  0.0 +/- 0.0"
      ]
     },
     "execution_count": 54,
     "metadata": {},
     "output_type": "execute_result"
    }
   ],
   "source": [
    "dummy_cv = ml_cv_results('Dummy', DummyClassifier(), X_temp, y_temp)\n",
    "dummy_cv"
   ]
  },
  {
   "cell_type": "markdown",
   "metadata": {
    "hidden": true
   },
   "source": [
    "## 7.2 Logistic Regression"
   ]
  },
  {
   "cell_type": "code",
   "execution_count": 55,
   "metadata": {
    "ExecuteTime": {
     "end_time": "2021-01-11T18:49:26.692331Z",
     "start_time": "2021-01-11T18:49:20.044652Z"
    },
    "hidden": true
   },
   "outputs": [],
   "source": [
    "lg = LogisticRegression()\n",
    "lg.fit(X_train_cs, y_train)\n",
    "\n",
    "y_pred = lg.predict(X_valid_cs)"
   ]
  },
  {
   "cell_type": "code",
   "execution_count": 56,
   "metadata": {
    "ExecuteTime": {
     "end_time": "2021-01-11T18:49:27.135619Z",
     "start_time": "2021-01-11T18:49:26.696473Z"
    },
    "hidden": true
   },
   "outputs": [
    {
     "data": {
      "text/html": [
       "<div>\n",
       "<style scoped>\n",
       "    .dataframe tbody tr th:only-of-type {\n",
       "        vertical-align: middle;\n",
       "    }\n",
       "\n",
       "    .dataframe tbody tr th {\n",
       "        vertical-align: top;\n",
       "    }\n",
       "\n",
       "    .dataframe thead th {\n",
       "        text-align: right;\n",
       "    }\n",
       "</style>\n",
       "<table border=\"1\" class=\"dataframe\">\n",
       "  <thead>\n",
       "    <tr style=\"text-align: right;\">\n",
       "      <th></th>\n",
       "      <th>Balanced Accuracy</th>\n",
       "      <th>Precision</th>\n",
       "      <th>Recall</th>\n",
       "      <th>F1</th>\n",
       "      <th>Kappa</th>\n",
       "    </tr>\n",
       "  </thead>\n",
       "  <tbody>\n",
       "    <tr>\n",
       "      <th>Logistic Regression</th>\n",
       "      <td>0.584</td>\n",
       "      <td>1.0</td>\n",
       "      <td>0.168</td>\n",
       "      <td>0.288</td>\n",
       "      <td>0.287</td>\n",
       "    </tr>\n",
       "  </tbody>\n",
       "</table>\n",
       "</div>"
      ],
      "text/plain": [
       "                     Balanced Accuracy  Precision  Recall     F1  Kappa\n",
       "Logistic Regression              0.584        1.0   0.168  0.288  0.287"
      ]
     },
     "execution_count": 56,
     "metadata": {},
     "output_type": "execute_result"
    }
   ],
   "source": [
    "lg_results = ml_scores('Logistic Regression', y_valid, y_pred)\n",
    "lg_results"
   ]
  },
  {
   "cell_type": "markdown",
   "metadata": {
    "hidden": true
   },
   "source": [
    "### 7.2.1 Classification Report"
   ]
  },
  {
   "cell_type": "code",
   "execution_count": 57,
   "metadata": {
    "ExecuteTime": {
     "end_time": "2021-01-11T18:49:27.359204Z",
     "start_time": "2021-01-11T18:49:27.138782Z"
    },
    "hidden": true
   },
   "outputs": [
    {
     "name": "stdout",
     "output_type": "stream",
     "text": [
      "              precision    recall  f1-score   support\n",
      "\n",
      "           0       1.00      1.00      1.00    101671\n",
      "           1       1.00      0.17      0.29       131\n",
      "\n",
      "    accuracy                           1.00    101802\n",
      "   macro avg       1.00      0.58      0.64    101802\n",
      "weighted avg       1.00      1.00      1.00    101802\n",
      "\n"
     ]
    }
   ],
   "source": [
    "print(classification_report(y_valid, y_pred))"
   ]
  },
  {
   "cell_type": "markdown",
   "metadata": {
    "hidden": true
   },
   "source": [
    "### 7.2.2 Cross Validation"
   ]
  },
  {
   "cell_type": "code",
   "execution_count": 58,
   "metadata": {
    "ExecuteTime": {
     "end_time": "2021-01-11T18:49:45.056149Z",
     "start_time": "2021-01-11T18:49:27.362727Z"
    },
    "hidden": true
   },
   "outputs": [
    {
     "name": "stdout",
     "output_type": "stream",
     "text": [
      "Fold K=1\n",
      "Fold K=2\n",
      "Fold K=3\n",
      "Fold K=4\n",
      "Fold K=5\n"
     ]
    },
    {
     "data": {
      "text/html": [
       "<div>\n",
       "<style scoped>\n",
       "    .dataframe tbody tr th:only-of-type {\n",
       "        vertical-align: middle;\n",
       "    }\n",
       "\n",
       "    .dataframe tbody tr th {\n",
       "        vertical-align: top;\n",
       "    }\n",
       "\n",
       "    .dataframe thead th {\n",
       "        text-align: right;\n",
       "    }\n",
       "</style>\n",
       "<table border=\"1\" class=\"dataframe\">\n",
       "  <thead>\n",
       "    <tr style=\"text-align: right;\">\n",
       "      <th></th>\n",
       "      <th>Balanced Accuracy</th>\n",
       "      <th>Precision</th>\n",
       "      <th>Recall</th>\n",
       "      <th>F1</th>\n",
       "      <th>Kappa</th>\n",
       "    </tr>\n",
       "  </thead>\n",
       "  <tbody>\n",
       "    <tr>\n",
       "      <th>Logistic Regression</th>\n",
       "      <td>0.565 +/- 0.013</td>\n",
       "      <td>1.0 +/- 0.0</td>\n",
       "      <td>0.129 +/- 0.026</td>\n",
       "      <td>0.228 +/- 0.041</td>\n",
       "      <td>0.228 +/- 0.041</td>\n",
       "    </tr>\n",
       "  </tbody>\n",
       "</table>\n",
       "</div>"
      ],
      "text/plain": [
       "                    Balanced Accuracy    Precision           Recall               F1            Kappa\n",
       "Logistic Regression   0.565 +/- 0.013  1.0 +/- 0.0  0.129 +/- 0.026  0.228 +/- 0.041  0.228 +/- 0.041"
      ]
     },
     "execution_count": 58,
     "metadata": {},
     "output_type": "execute_result"
    }
   ],
   "source": [
    "lg_cv = ml_cv_results('Logistic Regression',\n",
    "                      LogisticRegression(), \n",
    "                      X_temp_cs, y_temp)\n",
    "lg_cv"
   ]
  },
  {
   "cell_type": "markdown",
   "metadata": {
    "hidden": true
   },
   "source": [
    "## 7.3 K Nearest Neighbors"
   ]
  },
  {
   "cell_type": "code",
   "execution_count": 59,
   "metadata": {
    "ExecuteTime": {
     "end_time": "2021-01-11T18:49:57.229314Z",
     "start_time": "2021-01-11T18:49:45.059296Z"
    },
    "hidden": true
   },
   "outputs": [],
   "source": [
    "knn = KNeighborsClassifier()\n",
    "knn.fit(X_train_cs, y_train)\n",
    "\n",
    "y_pred = knn.predict(X_valid_cs)"
   ]
  },
  {
   "cell_type": "code",
   "execution_count": 60,
   "metadata": {
    "ExecuteTime": {
     "end_time": "2021-01-11T18:49:57.583127Z",
     "start_time": "2021-01-11T18:49:57.231046Z"
    },
    "hidden": true
   },
   "outputs": [
    {
     "data": {
      "text/html": [
       "<div>\n",
       "<style scoped>\n",
       "    .dataframe tbody tr th:only-of-type {\n",
       "        vertical-align: middle;\n",
       "    }\n",
       "\n",
       "    .dataframe tbody tr th {\n",
       "        vertical-align: top;\n",
       "    }\n",
       "\n",
       "    .dataframe thead th {\n",
       "        text-align: right;\n",
       "    }\n",
       "</style>\n",
       "<table border=\"1\" class=\"dataframe\">\n",
       "  <thead>\n",
       "    <tr style=\"text-align: right;\">\n",
       "      <th></th>\n",
       "      <th>Balanced Accuracy</th>\n",
       "      <th>Precision</th>\n",
       "      <th>Recall</th>\n",
       "      <th>F1</th>\n",
       "      <th>Kappa</th>\n",
       "    </tr>\n",
       "  </thead>\n",
       "  <tbody>\n",
       "    <tr>\n",
       "      <th>K Nearest Neighbors</th>\n",
       "      <td>0.565</td>\n",
       "      <td>1.0</td>\n",
       "      <td>0.13</td>\n",
       "      <td>0.23</td>\n",
       "      <td>0.23</td>\n",
       "    </tr>\n",
       "  </tbody>\n",
       "</table>\n",
       "</div>"
      ],
      "text/plain": [
       "                     Balanced Accuracy  Precision  Recall    F1  Kappa\n",
       "K Nearest Neighbors              0.565        1.0    0.13  0.23   0.23"
      ]
     },
     "execution_count": 60,
     "metadata": {},
     "output_type": "execute_result"
    }
   ],
   "source": [
    "knn_results = ml_scores('K Nearest Neighbors', y_valid, y_pred)\n",
    "knn_results"
   ]
  },
  {
   "cell_type": "markdown",
   "metadata": {
    "hidden": true
   },
   "source": [
    "### 7.3.1 Classification Report"
   ]
  },
  {
   "cell_type": "code",
   "execution_count": 61,
   "metadata": {
    "ExecuteTime": {
     "end_time": "2021-01-11T18:49:57.762156Z",
     "start_time": "2021-01-11T18:49:57.586973Z"
    },
    "hidden": true
   },
   "outputs": [
    {
     "name": "stdout",
     "output_type": "stream",
     "text": [
      "              precision    recall  f1-score   support\n",
      "\n",
      "           0       1.00      1.00      1.00    101671\n",
      "           1       1.00      0.13      0.23       131\n",
      "\n",
      "    accuracy                           1.00    101802\n",
      "   macro avg       1.00      0.56      0.61    101802\n",
      "weighted avg       1.00      1.00      1.00    101802\n",
      "\n"
     ]
    }
   ],
   "source": [
    "print(classification_report(y_valid, y_pred))"
   ]
  },
  {
   "cell_type": "markdown",
   "metadata": {
    "hidden": true
   },
   "source": [
    "### 7.3.2 Cross Validation"
   ]
  },
  {
   "cell_type": "code",
   "execution_count": 62,
   "metadata": {
    "ExecuteTime": {
     "end_time": "2021-01-11T19:07:47.919357Z",
     "start_time": "2021-01-11T18:49:57.764539Z"
    },
    "hidden": true
   },
   "outputs": [
    {
     "name": "stdout",
     "output_type": "stream",
     "text": [
      "Fold K=1\n",
      "Fold K=2\n",
      "Fold K=3\n",
      "Fold K=4\n",
      "Fold K=5\n"
     ]
    },
    {
     "data": {
      "text/html": [
       "<div>\n",
       "<style scoped>\n",
       "    .dataframe tbody tr th:only-of-type {\n",
       "        vertical-align: middle;\n",
       "    }\n",
       "\n",
       "    .dataframe tbody tr th {\n",
       "        vertical-align: top;\n",
       "    }\n",
       "\n",
       "    .dataframe thead th {\n",
       "        text-align: right;\n",
       "    }\n",
       "</style>\n",
       "<table border=\"1\" class=\"dataframe\">\n",
       "  <thead>\n",
       "    <tr style=\"text-align: right;\">\n",
       "      <th></th>\n",
       "      <th>Balanced Accuracy</th>\n",
       "      <th>Precision</th>\n",
       "      <th>Recall</th>\n",
       "      <th>F1</th>\n",
       "      <th>Kappa</th>\n",
       "    </tr>\n",
       "  </thead>\n",
       "  <tbody>\n",
       "    <tr>\n",
       "      <th>K Nearest Neighbors</th>\n",
       "      <td>0.705 +/- 0.017</td>\n",
       "      <td>0.943 +/- 0.033</td>\n",
       "      <td>0.411 +/- 0.034</td>\n",
       "      <td>0.572 +/- 0.038</td>\n",
       "      <td>0.572 +/- 0.038</td>\n",
       "    </tr>\n",
       "  </tbody>\n",
       "</table>\n",
       "</div>"
      ],
      "text/plain": [
       "                    Balanced Accuracy        Precision           Recall               F1            Kappa\n",
       "K Nearest Neighbors   0.705 +/- 0.017  0.943 +/- 0.033  0.411 +/- 0.034  0.572 +/- 0.038  0.572 +/- 0.038"
      ]
     },
     "execution_count": 62,
     "metadata": {},
     "output_type": "execute_result"
    }
   ],
   "source": [
    "knn_cv = ml_cv_results('K Nearest Neighbors', KNeighborsClassifier(), \n",
    "                       X_temp_cs, y_temp)\n",
    "knn_cv"
   ]
  },
  {
   "cell_type": "markdown",
   "metadata": {
    "hidden": true
   },
   "source": [
    "## 7.4 Support Vector Machine"
   ]
  },
  {
   "cell_type": "code",
   "execution_count": 63,
   "metadata": {
    "ExecuteTime": {
     "end_time": "2021-01-11T19:08:11.602901Z",
     "start_time": "2021-01-11T19:07:47.928024Z"
    },
    "hidden": true
   },
   "outputs": [],
   "source": [
    "svm = SVC()\n",
    "svm.fit(X_train_cs, y_train)\n",
    "\n",
    "y_pred = svm.predict(X_valid_cs)"
   ]
  },
  {
   "cell_type": "code",
   "execution_count": 64,
   "metadata": {
    "ExecuteTime": {
     "end_time": "2021-01-11T19:08:12.006181Z",
     "start_time": "2021-01-11T19:08:11.604735Z"
    },
    "hidden": true
   },
   "outputs": [
    {
     "data": {
      "text/html": [
       "<div>\n",
       "<style scoped>\n",
       "    .dataframe tbody tr th:only-of-type {\n",
       "        vertical-align: middle;\n",
       "    }\n",
       "\n",
       "    .dataframe tbody tr th {\n",
       "        vertical-align: top;\n",
       "    }\n",
       "\n",
       "    .dataframe thead th {\n",
       "        text-align: right;\n",
       "    }\n",
       "</style>\n",
       "<table border=\"1\" class=\"dataframe\">\n",
       "  <thead>\n",
       "    <tr style=\"text-align: right;\">\n",
       "      <th></th>\n",
       "      <th>Balanced Accuracy</th>\n",
       "      <th>Precision</th>\n",
       "      <th>Recall</th>\n",
       "      <th>F1</th>\n",
       "      <th>Kappa</th>\n",
       "    </tr>\n",
       "  </thead>\n",
       "  <tbody>\n",
       "    <tr>\n",
       "      <th>SVM</th>\n",
       "      <td>0.5</td>\n",
       "      <td>0.0</td>\n",
       "      <td>0.0</td>\n",
       "      <td>0.0</td>\n",
       "      <td>0.0</td>\n",
       "    </tr>\n",
       "  </tbody>\n",
       "</table>\n",
       "</div>"
      ],
      "text/plain": [
       "     Balanced Accuracy  Precision  Recall   F1  Kappa\n",
       "SVM                0.5        0.0     0.0  0.0    0.0"
      ]
     },
     "execution_count": 64,
     "metadata": {},
     "output_type": "execute_result"
    }
   ],
   "source": [
    "svm_results = ml_scores('SVM', y_valid, y_pred)\n",
    "svm_results"
   ]
  },
  {
   "cell_type": "markdown",
   "metadata": {
    "hidden": true
   },
   "source": [
    "### 7.4.1 Classification Report"
   ]
  },
  {
   "cell_type": "code",
   "execution_count": 65,
   "metadata": {
    "ExecuteTime": {
     "end_time": "2021-01-11T19:08:12.197097Z",
     "start_time": "2021-01-11T19:08:12.008910Z"
    },
    "hidden": true
   },
   "outputs": [
    {
     "name": "stdout",
     "output_type": "stream",
     "text": [
      "              precision    recall  f1-score   support\n",
      "\n",
      "           0       1.00      1.00      1.00    101671\n",
      "           1       0.00      0.00      0.00       131\n",
      "\n",
      "    accuracy                           1.00    101802\n",
      "   macro avg       0.50      0.50      0.50    101802\n",
      "weighted avg       1.00      1.00      1.00    101802\n",
      "\n"
     ]
    }
   ],
   "source": [
    "print(classification_report(y_valid, y_pred))"
   ]
  },
  {
   "cell_type": "markdown",
   "metadata": {
    "hidden": true
   },
   "source": [
    "### 7.4.2 Cross Validation"
   ]
  },
  {
   "cell_type": "code",
   "execution_count": 66,
   "metadata": {
    "ExecuteTime": {
     "end_time": "2021-01-11T19:09:56.802520Z",
     "start_time": "2021-01-11T19:08:12.200264Z"
    },
    "hidden": true
   },
   "outputs": [
    {
     "name": "stdout",
     "output_type": "stream",
     "text": [
      "Fold K=1\n",
      "Fold K=2\n",
      "Fold K=3\n",
      "Fold K=4\n",
      "Fold K=5\n"
     ]
    },
    {
     "data": {
      "text/html": [
       "<div>\n",
       "<style scoped>\n",
       "    .dataframe tbody tr th:only-of-type {\n",
       "        vertical-align: middle;\n",
       "    }\n",
       "\n",
       "    .dataframe tbody tr th {\n",
       "        vertical-align: top;\n",
       "    }\n",
       "\n",
       "    .dataframe thead th {\n",
       "        text-align: right;\n",
       "    }\n",
       "</style>\n",
       "<table border=\"1\" class=\"dataframe\">\n",
       "  <thead>\n",
       "    <tr style=\"text-align: right;\">\n",
       "      <th></th>\n",
       "      <th>Balanced Accuracy</th>\n",
       "      <th>Precision</th>\n",
       "      <th>Recall</th>\n",
       "      <th>F1</th>\n",
       "      <th>Kappa</th>\n",
       "    </tr>\n",
       "  </thead>\n",
       "  <tbody>\n",
       "    <tr>\n",
       "      <th>SVM</th>\n",
       "      <td>0.596 +/- 0.017</td>\n",
       "      <td>1.0 +/- 0.0</td>\n",
       "      <td>0.192 +/- 0.034</td>\n",
       "      <td>0.32 +/- 0.047</td>\n",
       "      <td>0.32 +/- 0.047</td>\n",
       "    </tr>\n",
       "  </tbody>\n",
       "</table>\n",
       "</div>"
      ],
      "text/plain": [
       "    Balanced Accuracy    Precision           Recall              F1           Kappa\n",
       "SVM   0.596 +/- 0.017  1.0 +/- 0.0  0.192 +/- 0.034  0.32 +/- 0.047  0.32 +/- 0.047"
      ]
     },
     "execution_count": 66,
     "metadata": {},
     "output_type": "execute_result"
    }
   ],
   "source": [
    "svm_cv = ml_cv_results('SVM', SVC(), X_temp_cs, y_temp)\n",
    "svm_cv"
   ]
  },
  {
   "cell_type": "markdown",
   "metadata": {
    "hidden": true
   },
   "source": [
    "## 7.5 Random Forest"
   ]
  },
  {
   "cell_type": "code",
   "execution_count": 67,
   "metadata": {
    "ExecuteTime": {
     "end_time": "2021-01-11T19:10:42.703370Z",
     "start_time": "2021-01-11T19:09:56.805739Z"
    },
    "hidden": true
   },
   "outputs": [],
   "source": [
    "rf = RandomForestClassifier(class_weight='balanced')\n",
    "rf.fit(X_train_cs, y_train)\n",
    "\n",
    "y_pred = rf.predict(X_valid_cs)"
   ]
  },
  {
   "cell_type": "code",
   "execution_count": 68,
   "metadata": {
    "ExecuteTime": {
     "end_time": "2021-01-11T19:10:43.040609Z",
     "start_time": "2021-01-11T19:10:42.705221Z"
    },
    "hidden": true
   },
   "outputs": [
    {
     "data": {
      "text/html": [
       "<div>\n",
       "<style scoped>\n",
       "    .dataframe tbody tr th:only-of-type {\n",
       "        vertical-align: middle;\n",
       "    }\n",
       "\n",
       "    .dataframe tbody tr th {\n",
       "        vertical-align: top;\n",
       "    }\n",
       "\n",
       "    .dataframe thead th {\n",
       "        text-align: right;\n",
       "    }\n",
       "</style>\n",
       "<table border=\"1\" class=\"dataframe\">\n",
       "  <thead>\n",
       "    <tr style=\"text-align: right;\">\n",
       "      <th></th>\n",
       "      <th>Balanced Accuracy</th>\n",
       "      <th>Precision</th>\n",
       "      <th>Recall</th>\n",
       "      <th>F1</th>\n",
       "      <th>Kappa</th>\n",
       "    </tr>\n",
       "  </thead>\n",
       "  <tbody>\n",
       "    <tr>\n",
       "      <th>Random Forest</th>\n",
       "      <td>0.844</td>\n",
       "      <td>0.978</td>\n",
       "      <td>0.687</td>\n",
       "      <td>0.807</td>\n",
       "      <td>0.807</td>\n",
       "    </tr>\n",
       "  </tbody>\n",
       "</table>\n",
       "</div>"
      ],
      "text/plain": [
       "               Balanced Accuracy  Precision  Recall     F1  Kappa\n",
       "Random Forest              0.844      0.978   0.687  0.807  0.807"
      ]
     },
     "execution_count": 68,
     "metadata": {},
     "output_type": "execute_result"
    }
   ],
   "source": [
    "rf_results = ml_scores('Random Forest', y_valid, y_pred)\n",
    "rf_results"
   ]
  },
  {
   "cell_type": "markdown",
   "metadata": {
    "hidden": true
   },
   "source": [
    "### 7.5.1 Classification Report"
   ]
  },
  {
   "cell_type": "code",
   "execution_count": 69,
   "metadata": {
    "ExecuteTime": {
     "end_time": "2021-01-11T19:10:43.220005Z",
     "start_time": "2021-01-11T19:10:43.043253Z"
    },
    "hidden": true
   },
   "outputs": [
    {
     "name": "stdout",
     "output_type": "stream",
     "text": [
      "              precision    recall  f1-score   support\n",
      "\n",
      "           0       1.00      1.00      1.00    101671\n",
      "           1       0.98      0.69      0.81       131\n",
      "\n",
      "    accuracy                           1.00    101802\n",
      "   macro avg       0.99      0.84      0.90    101802\n",
      "weighted avg       1.00      1.00      1.00    101802\n",
      "\n"
     ]
    }
   ],
   "source": [
    "print(classification_report(y_valid, y_pred))"
   ]
  },
  {
   "cell_type": "markdown",
   "metadata": {
    "hidden": true
   },
   "source": [
    "### 7.5.2 Cross Validation"
   ]
  },
  {
   "cell_type": "code",
   "execution_count": 70,
   "metadata": {
    "ExecuteTime": {
     "end_time": "2021-01-11T19:15:54.845672Z",
     "start_time": "2021-01-11T19:10:43.223572Z"
    },
    "hidden": true
   },
   "outputs": [
    {
     "name": "stdout",
     "output_type": "stream",
     "text": [
      "Fold K=1\n",
      "Fold K=2\n",
      "Fold K=3\n",
      "Fold K=4\n",
      "Fold K=5\n"
     ]
    },
    {
     "data": {
      "text/html": [
       "<div>\n",
       "<style scoped>\n",
       "    .dataframe tbody tr th:only-of-type {\n",
       "        vertical-align: middle;\n",
       "    }\n",
       "\n",
       "    .dataframe tbody tr th {\n",
       "        vertical-align: top;\n",
       "    }\n",
       "\n",
       "    .dataframe thead th {\n",
       "        text-align: right;\n",
       "    }\n",
       "</style>\n",
       "<table border=\"1\" class=\"dataframe\">\n",
       "  <thead>\n",
       "    <tr style=\"text-align: right;\">\n",
       "      <th></th>\n",
       "      <th>Balanced Accuracy</th>\n",
       "      <th>Precision</th>\n",
       "      <th>Recall</th>\n",
       "      <th>F1</th>\n",
       "      <th>Kappa</th>\n",
       "    </tr>\n",
       "  </thead>\n",
       "  <tbody>\n",
       "    <tr>\n",
       "      <th>Random Forest</th>\n",
       "      <td>0.861 +/- 0.019</td>\n",
       "      <td>0.969 +/- 0.018</td>\n",
       "      <td>0.721 +/- 0.038</td>\n",
       "      <td>0.827 +/- 0.029</td>\n",
       "      <td>0.827 +/- 0.029</td>\n",
       "    </tr>\n",
       "  </tbody>\n",
       "</table>\n",
       "</div>"
      ],
      "text/plain": [
       "              Balanced Accuracy        Precision           Recall               F1            Kappa\n",
       "Random Forest   0.861 +/- 0.019  0.969 +/- 0.018  0.721 +/- 0.038  0.827 +/- 0.029  0.827 +/- 0.029"
      ]
     },
     "execution_count": 70,
     "metadata": {},
     "output_type": "execute_result"
    }
   ],
   "source": [
    "rf_cv = ml_cv_results('Random Forest', \n",
    "                      RandomForestClassifier(), \n",
    "                      X_temp_cs, y_temp)\n",
    "rf_cv"
   ]
  },
  {
   "cell_type": "markdown",
   "metadata": {
    "hidden": true
   },
   "source": [
    "## 7.6 XGBoost"
   ]
  },
  {
   "cell_type": "code",
   "execution_count": 71,
   "metadata": {
    "ExecuteTime": {
     "end_time": "2021-01-11T19:17:29.668827Z",
     "start_time": "2021-01-11T19:17:03.475475Z"
    },
    "hidden": true
   },
   "outputs": [],
   "source": [
    "xgb = XGBClassifier()\n",
    "xgb.fit(X_train_cs, y_train)\n",
    "\n",
    "y_pred = xgb.predict(X_valid_cs)"
   ]
  },
  {
   "cell_type": "code",
   "execution_count": 72,
   "metadata": {
    "ExecuteTime": {
     "end_time": "2021-01-11T19:17:30.046338Z",
     "start_time": "2021-01-11T19:17:29.672182Z"
    },
    "hidden": true
   },
   "outputs": [
    {
     "data": {
      "text/html": [
       "<div>\n",
       "<style scoped>\n",
       "    .dataframe tbody tr th:only-of-type {\n",
       "        vertical-align: middle;\n",
       "    }\n",
       "\n",
       "    .dataframe tbody tr th {\n",
       "        vertical-align: top;\n",
       "    }\n",
       "\n",
       "    .dataframe thead th {\n",
       "        text-align: right;\n",
       "    }\n",
       "</style>\n",
       "<table border=\"1\" class=\"dataframe\">\n",
       "  <thead>\n",
       "    <tr style=\"text-align: right;\">\n",
       "      <th></th>\n",
       "      <th>Balanced Accuracy</th>\n",
       "      <th>Precision</th>\n",
       "      <th>Recall</th>\n",
       "      <th>F1</th>\n",
       "      <th>Kappa</th>\n",
       "    </tr>\n",
       "  </thead>\n",
       "  <tbody>\n",
       "    <tr>\n",
       "      <th>XGBoost</th>\n",
       "      <td>0.874</td>\n",
       "      <td>0.942</td>\n",
       "      <td>0.748</td>\n",
       "      <td>0.834</td>\n",
       "      <td>0.834</td>\n",
       "    </tr>\n",
       "  </tbody>\n",
       "</table>\n",
       "</div>"
      ],
      "text/plain": [
       "         Balanced Accuracy  Precision  Recall     F1  Kappa\n",
       "XGBoost              0.874      0.942   0.748  0.834  0.834"
      ]
     },
     "execution_count": 72,
     "metadata": {},
     "output_type": "execute_result"
    }
   ],
   "source": [
    "xgb_results = ml_scores('XGBoost', y_valid, y_pred)\n",
    "xgb_results"
   ]
  },
  {
   "cell_type": "markdown",
   "metadata": {
    "hidden": true
   },
   "source": [
    "### 7.6.1 Classification Report"
   ]
  },
  {
   "cell_type": "code",
   "execution_count": 73,
   "metadata": {
    "ExecuteTime": {
     "end_time": "2021-01-11T19:17:30.279678Z",
     "start_time": "2021-01-11T19:17:30.052006Z"
    },
    "hidden": true
   },
   "outputs": [
    {
     "name": "stdout",
     "output_type": "stream",
     "text": [
      "              precision    recall  f1-score   support\n",
      "\n",
      "           0       1.00      1.00      1.00    101671\n",
      "           1       0.94      0.75      0.83       131\n",
      "\n",
      "    accuracy                           1.00    101802\n",
      "   macro avg       0.97      0.87      0.92    101802\n",
      "weighted avg       1.00      1.00      1.00    101802\n",
      "\n"
     ]
    }
   ],
   "source": [
    "print(classification_report(y_valid, y_pred))"
   ]
  },
  {
   "cell_type": "markdown",
   "metadata": {
    "hidden": true
   },
   "source": [
    "### 7.6.2 Cross Validation"
   ]
  },
  {
   "cell_type": "code",
   "execution_count": 74,
   "metadata": {
    "ExecuteTime": {
     "end_time": "2021-01-11T19:21:43.707004Z",
     "start_time": "2021-01-11T19:19:26.657905Z"
    },
    "hidden": true
   },
   "outputs": [
    {
     "name": "stdout",
     "output_type": "stream",
     "text": [
      "Fold K=1\n",
      "Fold K=2\n",
      "Fold K=3\n",
      "Fold K=4\n",
      "Fold K=5\n"
     ]
    },
    {
     "data": {
      "text/html": [
       "<div>\n",
       "<style scoped>\n",
       "    .dataframe tbody tr th:only-of-type {\n",
       "        vertical-align: middle;\n",
       "    }\n",
       "\n",
       "    .dataframe tbody tr th {\n",
       "        vertical-align: top;\n",
       "    }\n",
       "\n",
       "    .dataframe thead th {\n",
       "        text-align: right;\n",
       "    }\n",
       "</style>\n",
       "<table border=\"1\" class=\"dataframe\">\n",
       "  <thead>\n",
       "    <tr style=\"text-align: right;\">\n",
       "      <th></th>\n",
       "      <th>Balanced Accuracy</th>\n",
       "      <th>Precision</th>\n",
       "      <th>Recall</th>\n",
       "      <th>F1</th>\n",
       "      <th>Kappa</th>\n",
       "    </tr>\n",
       "  </thead>\n",
       "  <tbody>\n",
       "    <tr>\n",
       "      <th>XGBoost</th>\n",
       "      <td>0.887 +/- 0.021</td>\n",
       "      <td>0.938 +/- 0.017</td>\n",
       "      <td>0.775 +/- 0.042</td>\n",
       "      <td>0.848 +/- 0.023</td>\n",
       "      <td>0.848 +/- 0.023</td>\n",
       "    </tr>\n",
       "  </tbody>\n",
       "</table>\n",
       "</div>"
      ],
      "text/plain": [
       "        Balanced Accuracy        Precision           Recall               F1            Kappa\n",
       "XGBoost   0.887 +/- 0.021  0.938 +/- 0.017  0.775 +/- 0.042  0.848 +/- 0.023  0.848 +/- 0.023"
      ]
     },
     "execution_count": 74,
     "metadata": {},
     "output_type": "execute_result"
    }
   ],
   "source": [
    "xgb_cv = ml_cv_results('XGBoost', XGBClassifier(),\n",
    "                       X_temp_cs, y_temp)\n",
    "xgb_cv"
   ]
  },
  {
   "cell_type": "markdown",
   "metadata": {
    "hidden": true
   },
   "source": [
    "## 7.7 LightGBM"
   ]
  },
  {
   "cell_type": "code",
   "execution_count": 75,
   "metadata": {
    "ExecuteTime": {
     "end_time": "2021-01-11T19:21:47.264120Z",
     "start_time": "2021-01-11T19:21:43.709212Z"
    },
    "hidden": true
   },
   "outputs": [
    {
     "name": "stdout",
     "output_type": "stream",
     "text": [
      "[LightGBM] [Info] Number of positive: 526, number of negative: 406681\n",
      "[LightGBM] [Info] Auto-choosing row-wise multi-threading, the overhead of testing was 0.003289 seconds.\n",
      "You can set `force_row_wise=true` to remove the overhead.\n",
      "And if memory is not enough, you can set `force_col_wise=true`.\n",
      "[LightGBM] [Info] Total Bins 1532\n",
      "[LightGBM] [Info] Number of data points in the train set: 407207, number of used features: 7\n",
      "[LightGBM] [Info] [binary:BoostFromScore]: pavg=0.001292 -> initscore=-6.650483\n",
      "[LightGBM] [Info] Start training from score -6.650483\n"
     ]
    }
   ],
   "source": [
    "lightgbm = LGBMClassifier()\n",
    "lightgbm.fit(X_train_cs, y_train)\n",
    "\n",
    "y_pred = lightgbm.predict(X_valid_cs)"
   ]
  },
  {
   "cell_type": "code",
   "execution_count": 76,
   "metadata": {
    "ExecuteTime": {
     "end_time": "2021-01-11T19:21:47.620836Z",
     "start_time": "2021-01-11T19:21:47.266776Z"
    },
    "hidden": true
   },
   "outputs": [
    {
     "data": {
      "text/html": [
       "<div>\n",
       "<style scoped>\n",
       "    .dataframe tbody tr th:only-of-type {\n",
       "        vertical-align: middle;\n",
       "    }\n",
       "\n",
       "    .dataframe tbody tr th {\n",
       "        vertical-align: top;\n",
       "    }\n",
       "\n",
       "    .dataframe thead th {\n",
       "        text-align: right;\n",
       "    }\n",
       "</style>\n",
       "<table border=\"1\" class=\"dataframe\">\n",
       "  <thead>\n",
       "    <tr style=\"text-align: right;\">\n",
       "      <th></th>\n",
       "      <th>Balanced Accuracy</th>\n",
       "      <th>Precision</th>\n",
       "      <th>Recall</th>\n",
       "      <th>F1</th>\n",
       "      <th>Kappa</th>\n",
       "    </tr>\n",
       "  </thead>\n",
       "  <tbody>\n",
       "    <tr>\n",
       "      <th>LightGBM</th>\n",
       "      <td>0.833</td>\n",
       "      <td>0.139</td>\n",
       "      <td>0.672</td>\n",
       "      <td>0.231</td>\n",
       "      <td>0.229</td>\n",
       "    </tr>\n",
       "  </tbody>\n",
       "</table>\n",
       "</div>"
      ],
      "text/plain": [
       "          Balanced Accuracy  Precision  Recall     F1  Kappa\n",
       "LightGBM              0.833      0.139   0.672  0.231  0.229"
      ]
     },
     "execution_count": 76,
     "metadata": {},
     "output_type": "execute_result"
    }
   ],
   "source": [
    "lightgbm_results = ml_scores('LightGBM', y_valid, y_pred)\n",
    "lightgbm_results"
   ]
  },
  {
   "cell_type": "markdown",
   "metadata": {
    "hidden": true
   },
   "source": [
    "### 7.7.1 Classification Report"
   ]
  },
  {
   "cell_type": "code",
   "execution_count": 77,
   "metadata": {
    "ExecuteTime": {
     "end_time": "2021-01-11T19:21:47.822441Z",
     "start_time": "2021-01-11T19:21:47.624065Z"
    },
    "hidden": true
   },
   "outputs": [
    {
     "name": "stdout",
     "output_type": "stream",
     "text": [
      "              precision    recall  f1-score   support\n",
      "\n",
      "           0       1.00      0.99      1.00    101671\n",
      "           1       0.14      0.67      0.23       131\n",
      "\n",
      "    accuracy                           0.99    101802\n",
      "   macro avg       0.57      0.83      0.61    101802\n",
      "weighted avg       1.00      0.99      1.00    101802\n",
      "\n"
     ]
    }
   ],
   "source": [
    "print(classification_report(y_valid, y_pred))"
   ]
  },
  {
   "cell_type": "markdown",
   "metadata": {
    "hidden": true
   },
   "source": [
    "### 7.7.2 Cross Validation"
   ]
  },
  {
   "cell_type": "code",
   "execution_count": 78,
   "metadata": {
    "ExecuteTime": {
     "end_time": "2021-01-11T19:22:05.573208Z",
     "start_time": "2021-01-11T19:21:47.824854Z"
    },
    "hidden": true
   },
   "outputs": [
    {
     "name": "stdout",
     "output_type": "stream",
     "text": [
      "Fold K=1\n",
      "[LightGBM] [Info] Number of positive: 526, number of negative: 406681\n",
      "[LightGBM] [Info] Auto-choosing row-wise multi-threading, the overhead of testing was 0.002353 seconds.\n",
      "You can set `force_row_wise=true` to remove the overhead.\n",
      "And if memory is not enough, you can set `force_col_wise=true`.\n",
      "[LightGBM] [Info] Total Bins 1532\n",
      "[LightGBM] [Info] Number of data points in the train set: 407207, number of used features: 7\n",
      "[LightGBM] [Info] [binary:BoostFromScore]: pavg=0.001292 -> initscore=-6.650483\n",
      "[LightGBM] [Info] Start training from score -6.650483\n",
      "Fold K=2\n",
      "[LightGBM] [Info] Number of positive: 526, number of negative: 406681\n",
      "[LightGBM] [Info] Auto-choosing row-wise multi-threading, the overhead of testing was 0.002271 seconds.\n",
      "You can set `force_row_wise=true` to remove the overhead.\n",
      "And if memory is not enough, you can set `force_col_wise=true`.\n",
      "[LightGBM] [Info] Total Bins 1532\n",
      "[LightGBM] [Info] Number of data points in the train set: 407207, number of used features: 7\n",
      "[LightGBM] [Info] [binary:BoostFromScore]: pavg=0.001292 -> initscore=-6.650483\n",
      "[LightGBM] [Info] Start training from score -6.650483\n",
      "Fold K=3\n",
      "[LightGBM] [Info] Number of positive: 525, number of negative: 406682\n",
      "[LightGBM] [Info] Auto-choosing row-wise multi-threading, the overhead of testing was 0.002221 seconds.\n",
      "You can set `force_row_wise=true` to remove the overhead.\n",
      "And if memory is not enough, you can set `force_col_wise=true`.\n",
      "[LightGBM] [Info] Total Bins 1532\n",
      "[LightGBM] [Info] Number of data points in the train set: 407207, number of used features: 7\n",
      "[LightGBM] [Info] [binary:BoostFromScore]: pavg=0.001289 -> initscore=-6.652389\n",
      "[LightGBM] [Info] Start training from score -6.652389\n",
      "Fold K=4\n",
      "[LightGBM] [Info] Number of positive: 525, number of negative: 406682\n",
      "[LightGBM] [Info] Auto-choosing row-wise multi-threading, the overhead of testing was 0.002626 seconds.\n",
      "You can set `force_row_wise=true` to remove the overhead.\n",
      "And if memory is not enough, you can set `force_col_wise=true`.\n",
      "[LightGBM] [Info] Total Bins 1532\n",
      "[LightGBM] [Info] Number of data points in the train set: 407207, number of used features: 7\n",
      "[LightGBM] [Info] [binary:BoostFromScore]: pavg=0.001289 -> initscore=-6.652389\n",
      "[LightGBM] [Info] Start training from score -6.652389\n",
      "Fold K=5\n",
      "[LightGBM] [Info] Number of positive: 526, number of negative: 406682\n",
      "[LightGBM] [Info] Auto-choosing row-wise multi-threading, the overhead of testing was 0.003143 seconds.\n",
      "You can set `force_row_wise=true` to remove the overhead.\n",
      "And if memory is not enough, you can set `force_col_wise=true`.\n",
      "[LightGBM] [Info] Total Bins 1532\n",
      "[LightGBM] [Info] Number of data points in the train set: 407208, number of used features: 7\n",
      "[LightGBM] [Info] [binary:BoostFromScore]: pavg=0.001292 -> initscore=-6.650486\n",
      "[LightGBM] [Info] Start training from score -6.650486\n"
     ]
    },
    {
     "data": {
      "text/html": [
       "<div>\n",
       "<style scoped>\n",
       "    .dataframe tbody tr th:only-of-type {\n",
       "        vertical-align: middle;\n",
       "    }\n",
       "\n",
       "    .dataframe tbody tr th {\n",
       "        vertical-align: top;\n",
       "    }\n",
       "\n",
       "    .dataframe thead th {\n",
       "        text-align: right;\n",
       "    }\n",
       "</style>\n",
       "<table border=\"1\" class=\"dataframe\">\n",
       "  <thead>\n",
       "    <tr style=\"text-align: right;\">\n",
       "      <th></th>\n",
       "      <th>Balanced Accuracy</th>\n",
       "      <th>Precision</th>\n",
       "      <th>Recall</th>\n",
       "      <th>F1</th>\n",
       "      <th>Kappa</th>\n",
       "    </tr>\n",
       "  </thead>\n",
       "  <tbody>\n",
       "    <tr>\n",
       "      <th>LightGDM</th>\n",
       "      <td>0.681 +/- 0.114</td>\n",
       "      <td>0.27 +/- 0.183</td>\n",
       "      <td>0.364 +/- 0.228</td>\n",
       "      <td>0.309 +/- 0.203</td>\n",
       "      <td>0.308 +/- 0.203</td>\n",
       "    </tr>\n",
       "  </tbody>\n",
       "</table>\n",
       "</div>"
      ],
      "text/plain": [
       "         Balanced Accuracy       Precision           Recall               F1            Kappa\n",
       "LightGDM   0.681 +/- 0.114  0.27 +/- 0.183  0.364 +/- 0.228  0.309 +/- 0.203  0.308 +/- 0.203"
      ]
     },
     "execution_count": 78,
     "metadata": {},
     "output_type": "execute_result"
    }
   ],
   "source": [
    "lightgbm_cv = ml_cv_results('LightGDM', LGBMClassifier(), \n",
    "                            X_temp_cs, y_temp)\n",
    "lightgbm_cv"
   ]
  },
  {
   "cell_type": "markdown",
   "metadata": {
    "hidden": true
   },
   "source": [
    "## 7.8 Comparing Model's Performance"
   ]
  },
  {
   "cell_type": "markdown",
   "metadata": {
    "hidden": true
   },
   "source": [
    "### 7.8.1 Single Performance"
   ]
  },
  {
   "cell_type": "code",
   "execution_count": 79,
   "metadata": {
    "ExecuteTime": {
     "end_time": "2021-01-11T19:22:05.598542Z",
     "start_time": "2021-01-11T19:22:05.575164Z"
    },
    "hidden": true
   },
   "outputs": [
    {
     "data": {
      "text/html": [
       "<div>\n",
       "<style scoped>\n",
       "    .dataframe tbody tr th:only-of-type {\n",
       "        vertical-align: middle;\n",
       "    }\n",
       "\n",
       "    .dataframe tbody tr th {\n",
       "        vertical-align: top;\n",
       "    }\n",
       "\n",
       "    .dataframe thead th {\n",
       "        text-align: right;\n",
       "    }\n",
       "</style>\n",
       "<table border=\"1\" class=\"dataframe\">\n",
       "  <thead>\n",
       "    <tr style=\"text-align: right;\">\n",
       "      <th></th>\n",
       "      <th>Balanced Accuracy</th>\n",
       "      <th>Precision</th>\n",
       "      <th>Recall</th>\n",
       "      <th>F1</th>\n",
       "      <th>Kappa</th>\n",
       "    </tr>\n",
       "  </thead>\n",
       "  <tbody>\n",
       "    <tr>\n",
       "      <th>dummy</th>\n",
       "      <td>0.500</td>\n",
       "      <td>0.000</td>\n",
       "      <td>0.000</td>\n",
       "      <td>0.000</td>\n",
       "      <td>0.000</td>\n",
       "    </tr>\n",
       "    <tr>\n",
       "      <th>SVM</th>\n",
       "      <td>0.500</td>\n",
       "      <td>0.000</td>\n",
       "      <td>0.000</td>\n",
       "      <td>0.000</td>\n",
       "      <td>0.000</td>\n",
       "    </tr>\n",
       "    <tr>\n",
       "      <th>K Nearest Neighbors</th>\n",
       "      <td>0.565</td>\n",
       "      <td>1.000</td>\n",
       "      <td>0.130</td>\n",
       "      <td>0.230</td>\n",
       "      <td>0.230</td>\n",
       "    </tr>\n",
       "    <tr>\n",
       "      <th>LightGBM</th>\n",
       "      <td>0.833</td>\n",
       "      <td>0.139</td>\n",
       "      <td>0.672</td>\n",
       "      <td>0.231</td>\n",
       "      <td>0.229</td>\n",
       "    </tr>\n",
       "    <tr>\n",
       "      <th>Logistic Regression</th>\n",
       "      <td>0.584</td>\n",
       "      <td>1.000</td>\n",
       "      <td>0.168</td>\n",
       "      <td>0.288</td>\n",
       "      <td>0.287</td>\n",
       "    </tr>\n",
       "    <tr>\n",
       "      <th>Random Forest</th>\n",
       "      <td>0.844</td>\n",
       "      <td>0.978</td>\n",
       "      <td>0.687</td>\n",
       "      <td>0.807</td>\n",
       "      <td>0.807</td>\n",
       "    </tr>\n",
       "    <tr>\n",
       "      <th>XGBoost</th>\n",
       "      <td>0.874</td>\n",
       "      <td>0.942</td>\n",
       "      <td>0.748</td>\n",
       "      <td>0.834</td>\n",
       "      <td>0.834</td>\n",
       "    </tr>\n",
       "  </tbody>\n",
       "</table>\n",
       "</div>"
      ],
      "text/plain": [
       "                     Balanced Accuracy  Precision  Recall     F1  Kappa\n",
       "dummy                            0.500      0.000   0.000  0.000  0.000\n",
       "SVM                              0.500      0.000   0.000  0.000  0.000\n",
       "K Nearest Neighbors              0.565      1.000   0.130  0.230  0.230\n",
       "LightGBM                         0.833      0.139   0.672  0.231  0.229\n",
       "Logistic Regression              0.584      1.000   0.168  0.288  0.287\n",
       "Random Forest                    0.844      0.978   0.687  0.807  0.807\n",
       "XGBoost                          0.874      0.942   0.748  0.834  0.834"
      ]
     },
     "execution_count": 79,
     "metadata": {},
     "output_type": "execute_result"
    }
   ],
   "source": [
    "modeling_performance = pd.concat([dummy_results, lg_results, knn_results, \n",
    "                                  rf_results, xgb_results, lightgbm_results,\n",
    "                                 svm_results])\n",
    "modeling_performance.sort_values(by=\"F1\", ascending=True)"
   ]
  },
  {
   "cell_type": "markdown",
   "metadata": {
    "hidden": true
   },
   "source": [
    "### 7.8.2 Cross Validation Performance"
   ]
  },
  {
   "cell_type": "code",
   "execution_count": 80,
   "metadata": {
    "ExecuteTime": {
     "end_time": "2021-01-11T19:22:05.627838Z",
     "start_time": "2021-01-11T19:22:05.601384Z"
    },
    "hidden": true
   },
   "outputs": [
    {
     "data": {
      "text/html": [
       "<div>\n",
       "<style scoped>\n",
       "    .dataframe tbody tr th:only-of-type {\n",
       "        vertical-align: middle;\n",
       "    }\n",
       "\n",
       "    .dataframe tbody tr th {\n",
       "        vertical-align: top;\n",
       "    }\n",
       "\n",
       "    .dataframe thead th {\n",
       "        text-align: right;\n",
       "    }\n",
       "</style>\n",
       "<table border=\"1\" class=\"dataframe\">\n",
       "  <thead>\n",
       "    <tr style=\"text-align: right;\">\n",
       "      <th></th>\n",
       "      <th>Balanced Accuracy</th>\n",
       "      <th>Precision</th>\n",
       "      <th>Recall</th>\n",
       "      <th>F1</th>\n",
       "      <th>Kappa</th>\n",
       "    </tr>\n",
       "  </thead>\n",
       "  <tbody>\n",
       "    <tr>\n",
       "      <th>Dummy</th>\n",
       "      <td>0.5 +/- 0.0</td>\n",
       "      <td>0.0 +/- 0.0</td>\n",
       "      <td>0.0 +/- 0.0</td>\n",
       "      <td>0.0 +/- 0.0</td>\n",
       "      <td>0.0 +/- 0.0</td>\n",
       "    </tr>\n",
       "    <tr>\n",
       "      <th>Logistic Regression</th>\n",
       "      <td>0.565 +/- 0.013</td>\n",
       "      <td>1.0 +/- 0.0</td>\n",
       "      <td>0.129 +/- 0.026</td>\n",
       "      <td>0.228 +/- 0.041</td>\n",
       "      <td>0.228 +/- 0.041</td>\n",
       "    </tr>\n",
       "    <tr>\n",
       "      <th>LightGDM</th>\n",
       "      <td>0.681 +/- 0.114</td>\n",
       "      <td>0.27 +/- 0.183</td>\n",
       "      <td>0.364 +/- 0.228</td>\n",
       "      <td>0.309 +/- 0.203</td>\n",
       "      <td>0.308 +/- 0.203</td>\n",
       "    </tr>\n",
       "    <tr>\n",
       "      <th>SVM</th>\n",
       "      <td>0.596 +/- 0.017</td>\n",
       "      <td>1.0 +/- 0.0</td>\n",
       "      <td>0.192 +/- 0.034</td>\n",
       "      <td>0.32 +/- 0.047</td>\n",
       "      <td>0.32 +/- 0.047</td>\n",
       "    </tr>\n",
       "    <tr>\n",
       "      <th>K Nearest Neighbors</th>\n",
       "      <td>0.705 +/- 0.017</td>\n",
       "      <td>0.943 +/- 0.033</td>\n",
       "      <td>0.411 +/- 0.034</td>\n",
       "      <td>0.572 +/- 0.038</td>\n",
       "      <td>0.572 +/- 0.038</td>\n",
       "    </tr>\n",
       "    <tr>\n",
       "      <th>Random Forest</th>\n",
       "      <td>0.861 +/- 0.019</td>\n",
       "      <td>0.969 +/- 0.018</td>\n",
       "      <td>0.721 +/- 0.038</td>\n",
       "      <td>0.827 +/- 0.029</td>\n",
       "      <td>0.827 +/- 0.029</td>\n",
       "    </tr>\n",
       "    <tr>\n",
       "      <th>XGBoost</th>\n",
       "      <td>0.887 +/- 0.021</td>\n",
       "      <td>0.938 +/- 0.017</td>\n",
       "      <td>0.775 +/- 0.042</td>\n",
       "      <td>0.848 +/- 0.023</td>\n",
       "      <td>0.848 +/- 0.023</td>\n",
       "    </tr>\n",
       "  </tbody>\n",
       "</table>\n",
       "</div>"
      ],
      "text/plain": [
       "                    Balanced Accuracy        Precision           Recall               F1            Kappa\n",
       "Dummy                     0.5 +/- 0.0      0.0 +/- 0.0      0.0 +/- 0.0      0.0 +/- 0.0      0.0 +/- 0.0\n",
       "Logistic Regression   0.565 +/- 0.013      1.0 +/- 0.0  0.129 +/- 0.026  0.228 +/- 0.041  0.228 +/- 0.041\n",
       "LightGDM              0.681 +/- 0.114   0.27 +/- 0.183  0.364 +/- 0.228  0.309 +/- 0.203  0.308 +/- 0.203\n",
       "SVM                   0.596 +/- 0.017      1.0 +/- 0.0  0.192 +/- 0.034   0.32 +/- 0.047   0.32 +/- 0.047\n",
       "K Nearest Neighbors   0.705 +/- 0.017  0.943 +/- 0.033  0.411 +/- 0.034  0.572 +/- 0.038  0.572 +/- 0.038\n",
       "Random Forest         0.861 +/- 0.019  0.969 +/- 0.018  0.721 +/- 0.038  0.827 +/- 0.029  0.827 +/- 0.029\n",
       "XGBoost               0.887 +/- 0.021  0.938 +/- 0.017  0.775 +/- 0.042  0.848 +/- 0.023  0.848 +/- 0.023"
      ]
     },
     "execution_count": 80,
     "metadata": {},
     "output_type": "execute_result"
    }
   ],
   "source": [
    "modeling_performance_cv = pd.concat([dummy_cv, lg_cv, knn_cv, rf_cv, \n",
    "                                     xgb_cv, lightgbm_cv, svm_cv])\n",
    "\n",
    "modeling_performance_cv.sort_values(by=\"F1\", ascending=True)"
   ]
  },
  {
   "cell_type": "markdown",
   "metadata": {
    "heading_collapsed": true
   },
   "source": [
    "# 8.0 Hyperparameter Fine Tuning"
   ]
  },
  {
   "cell_type": "code",
   "execution_count": 81,
   "metadata": {
    "ExecuteTime": {
     "end_time": "2021-01-11T19:22:05.640133Z",
     "start_time": "2021-01-11T19:22:05.633309Z"
    },
    "hidden": true
   },
   "outputs": [],
   "source": [
    "f1 = make_scorer(f1_score)"
   ]
  },
  {
   "cell_type": "code",
   "execution_count": 82,
   "metadata": {
    "ExecuteTime": {
     "end_time": "2021-01-11T19:22:05.653525Z",
     "start_time": "2021-01-11T19:22:05.644570Z"
    },
    "hidden": true
   },
   "outputs": [],
   "source": [
    "params = {\n",
    "    'booster': ['gbtree', 'gblinear', 'dart'],\n",
    "    'eta': [0.3, 0.1, 0.01],\n",
    "    'scale_pos_weight': [1, 774, 508, 99]\n",
    "}"
   ]
  },
  {
   "cell_type": "code",
   "execution_count": 83,
   "metadata": {
    "ExecuteTime": {
     "end_time": "2021-01-11T20:55:31.693518Z",
     "start_time": "2021-01-11T19:25:06.941400Z"
    },
    "hidden": true
   },
   "outputs": [
    {
     "data": {
      "text/plain": [
       "GridSearchCV(cv=StratifiedKFold(n_splits=5, random_state=None, shuffle=False),\n",
       "             estimator=XGBClassifier(base_score=None, booster=None,\n",
       "                                     callbacks=None, colsample_bylevel=None,\n",
       "                                     colsample_bynode=None,\n",
       "                                     colsample_bytree=None, device=None,\n",
       "                                     early_stopping_rounds=None,\n",
       "                                     enable_categorical=False, eval_metric=None,\n",
       "                                     feature_types=None, gamma=None,\n",
       "                                     grow_policy=None, importance_...\n",
       "                                     max_cat_to_onehot=None,\n",
       "                                     max_delta_step=None, max_depth=None,\n",
       "                                     max_leaves=None, min_child_weight=None,\n",
       "                                     missing=nan, monotone_constraints=None,\n",
       "                                     multi_strategy=None, n_estimators=None,\n",
       "                                     n_jobs=None, num_parallel_tree=None,\n",
       "                                     random_state=None, ...),\n",
       "             param_grid={'booster': ['gbtree', 'gblinear', 'dart'],\n",
       "                         'eta': [0.3, 0.1, 0.01],\n",
       "                         'scale_pos_weight': [1, 774, 508, 99]},\n",
       "             scoring=make_scorer(f1_score))"
      ]
     },
     "execution_count": 83,
     "metadata": {},
     "output_type": "execute_result"
    }
   ],
   "source": [
    "gs = GridSearchCV(XGBClassifier(), \n",
    "                  param_grid=params, \n",
    "                  scoring=f1, \n",
    "                  cv=StratifiedKFold(n_splits=5))\n",
    "\n",
    "gs.fit(X_params_cs, y_temp)"
   ]
  },
  {
   "cell_type": "code",
   "execution_count": 84,
   "metadata": {
    "ExecuteTime": {
     "end_time": "2021-01-11T20:55:31.706511Z",
     "start_time": "2021-01-11T20:55:31.695941Z"
    },
    "hidden": true
   },
   "outputs": [
    {
     "data": {
      "text/plain": [
       "{'booster': 'gbtree', 'eta': 0.3, 'scale_pos_weight': 1}"
      ]
     },
     "execution_count": 84,
     "metadata": {},
     "output_type": "execute_result"
    }
   ],
   "source": [
    "best_params = gs.best_params_\n",
    "best_params"
   ]
  },
  {
   "cell_type": "code",
   "execution_count": 85,
   "metadata": {
    "ExecuteTime": {
     "end_time": "2021-01-11T20:55:31.712716Z",
     "start_time": "2021-01-11T20:55:31.709317Z"
    },
    "hidden": true
   },
   "outputs": [],
   "source": [
    "best_params = {'booster': 'gbtree', 'eta': 0.3, 'scale_pos_weight': 1}"
   ]
  },
  {
   "cell_type": "code",
   "execution_count": 86,
   "metadata": {
    "ExecuteTime": {
     "end_time": "2021-01-11T20:55:31.720495Z",
     "start_time": "2021-01-11T20:55:31.715238Z"
    },
    "hidden": true
   },
   "outputs": [
    {
     "data": {
      "text/plain": [
       "0.8475894936731084"
      ]
     },
     "execution_count": 86,
     "metadata": {},
     "output_type": "execute_result"
    }
   ],
   "source": [
    "gs.best_score_"
   ]
  },
  {
   "cell_type": "markdown",
   "metadata": {
    "hidden": true
   },
   "source": [
    "## 8.1 Results"
   ]
  },
  {
   "cell_type": "code",
   "execution_count": 87,
   "metadata": {
    "ExecuteTime": {
     "end_time": "2021-01-11T20:55:31.724999Z",
     "start_time": "2021-01-11T20:55:31.722348Z"
    },
    "hidden": true
   },
   "outputs": [],
   "source": [
    "xgb_gs = XGBClassifier(\n",
    "    booster=best_params['booster'],\n",
    "    eta=best_params['eta'],\n",
    "    scale_pos_weight=best_params['scale_pos_weight']\n",
    ")"
   ]
  },
  {
   "cell_type": "code",
   "execution_count": 88,
   "metadata": {
    "ExecuteTime": {
     "end_time": "2021-01-11T20:55:52.745584Z",
     "start_time": "2021-01-11T20:55:31.726949Z"
    },
    "hidden": true
   },
   "outputs": [
    {
     "data": {
      "text/plain": [
       "XGBClassifier(base_score=None, booster='gbtree', callbacks=None,\n",
       "              colsample_bylevel=None, colsample_bynode=None,\n",
       "              colsample_bytree=None, device=None, early_stopping_rounds=None,\n",
       "              enable_categorical=False, eta=0.3, eval_metric=None,\n",
       "              feature_types=None, gamma=None, grow_policy=None,\n",
       "              importance_type=None, interaction_constraints=None,\n",
       "              learning_rate=None, max_bin=None, max_cat_threshold=None,\n",
       "              max_cat_to_onehot=None, max_delta_step=None, max_depth=None,\n",
       "              max_leaves=None, min_child_weight=None, missing=nan,\n",
       "              monotone_constraints=None, multi_strategy=None, n_estimators=None,\n",
       "              n_jobs=None, num_parallel_tree=None, ...)"
      ]
     },
     "execution_count": 88,
     "metadata": {},
     "output_type": "execute_result"
    }
   ],
   "source": [
    "xgb_gs.fit(X_train_cs, y_train)"
   ]
  },
  {
   "cell_type": "code",
   "execution_count": 89,
   "metadata": {
    "ExecuteTime": {
     "end_time": "2021-01-11T20:55:53.028663Z",
     "start_time": "2021-01-11T20:55:52.747809Z"
    },
    "hidden": true
   },
   "outputs": [],
   "source": [
    "y_pred = xgb_gs.predict(X_valid_cs)"
   ]
  },
  {
   "cell_type": "markdown",
   "metadata": {
    "hidden": true
   },
   "source": [
    "### 8.1.2 Single Results"
   ]
  },
  {
   "cell_type": "code",
   "execution_count": 90,
   "metadata": {
    "ExecuteTime": {
     "end_time": "2021-01-11T20:56:13.792056Z",
     "start_time": "2021-01-11T20:56:13.507732Z"
    },
    "hidden": true
   },
   "outputs": [
    {
     "data": {
      "text/html": [
       "<div>\n",
       "<style scoped>\n",
       "    .dataframe tbody tr th:only-of-type {\n",
       "        vertical-align: middle;\n",
       "    }\n",
       "\n",
       "    .dataframe tbody tr th {\n",
       "        vertical-align: top;\n",
       "    }\n",
       "\n",
       "    .dataframe thead th {\n",
       "        text-align: right;\n",
       "    }\n",
       "</style>\n",
       "<table border=\"1\" class=\"dataframe\">\n",
       "  <thead>\n",
       "    <tr style=\"text-align: right;\">\n",
       "      <th></th>\n",
       "      <th>Balanced Accuracy</th>\n",
       "      <th>Precision</th>\n",
       "      <th>Recall</th>\n",
       "      <th>F1</th>\n",
       "      <th>Kappa</th>\n",
       "    </tr>\n",
       "  </thead>\n",
       "  <tbody>\n",
       "    <tr>\n",
       "      <th>XGBoost GS</th>\n",
       "      <td>0.874</td>\n",
       "      <td>0.942</td>\n",
       "      <td>0.748</td>\n",
       "      <td>0.834</td>\n",
       "      <td>0.834</td>\n",
       "    </tr>\n",
       "  </tbody>\n",
       "</table>\n",
       "</div>"
      ],
      "text/plain": [
       "            Balanced Accuracy  Precision  Recall     F1  Kappa\n",
       "XGBoost GS              0.874      0.942   0.748  0.834  0.834"
      ]
     },
     "execution_count": 90,
     "metadata": {},
     "output_type": "execute_result"
    }
   ],
   "source": [
    "xgb_gs_results = ml_scores('XGBoost GS', y_valid, y_pred)\n",
    "xgb_gs_results"
   ]
  },
  {
   "cell_type": "markdown",
   "metadata": {
    "hidden": true
   },
   "source": [
    "### 8.1.3 Cross Validation"
   ]
  },
  {
   "cell_type": "code",
   "execution_count": 91,
   "metadata": {
    "ExecuteTime": {
     "end_time": "2021-01-11T20:58:41.339028Z",
     "start_time": "2021-01-11T20:56:15.338989Z"
    },
    "hidden": true
   },
   "outputs": [
    {
     "name": "stdout",
     "output_type": "stream",
     "text": [
      "Fold K=1\n",
      "Fold K=2\n",
      "Fold K=3\n",
      "Fold K=4\n",
      "Fold K=5\n"
     ]
    },
    {
     "data": {
      "text/html": [
       "<div>\n",
       "<style scoped>\n",
       "    .dataframe tbody tr th:only-of-type {\n",
       "        vertical-align: middle;\n",
       "    }\n",
       "\n",
       "    .dataframe tbody tr th {\n",
       "        vertical-align: top;\n",
       "    }\n",
       "\n",
       "    .dataframe thead th {\n",
       "        text-align: right;\n",
       "    }\n",
       "</style>\n",
       "<table border=\"1\" class=\"dataframe\">\n",
       "  <thead>\n",
       "    <tr style=\"text-align: right;\">\n",
       "      <th></th>\n",
       "      <th>Balanced Accuracy</th>\n",
       "      <th>Precision</th>\n",
       "      <th>Recall</th>\n",
       "      <th>F1</th>\n",
       "      <th>Kappa</th>\n",
       "    </tr>\n",
       "  </thead>\n",
       "  <tbody>\n",
       "    <tr>\n",
       "      <th>XGBoost GS</th>\n",
       "      <td>0.877 +/- 0.01</td>\n",
       "      <td>0.943 +/- 0.018</td>\n",
       "      <td>0.753 +/- 0.02</td>\n",
       "      <td>0.837 +/- 0.018</td>\n",
       "      <td>0.837 +/- 0.018</td>\n",
       "    </tr>\n",
       "  </tbody>\n",
       "</table>\n",
       "</div>"
      ],
      "text/plain": [
       "           Balanced Accuracy        Precision          Recall               F1            Kappa\n",
       "XGBoost GS    0.877 +/- 0.01  0.943 +/- 0.018  0.753 +/- 0.02  0.837 +/- 0.018  0.837 +/- 0.018"
      ]
     },
     "execution_count": 91,
     "metadata": {},
     "output_type": "execute_result"
    }
   ],
   "source": [
    "xgb_gs_cv = ml_cv_results('XGBoost GS', xgb_gs, X_temp_cs, y_temp)\n",
    "xgb_gs_cv"
   ]
  },
  {
   "cell_type": "markdown",
   "metadata": {
    "heading_collapsed": true
   },
   "source": [
    "# 9.0 Conclusions "
   ]
  },
  {
   "cell_type": "markdown",
   "metadata": {
    "hidden": true
   },
   "source": [
    "## 9.1 Final Model"
   ]
  },
  {
   "cell_type": "code",
   "execution_count": 92,
   "metadata": {
    "ExecuteTime": {
     "end_time": "2021-01-11T21:04:19.379185Z",
     "start_time": "2021-01-11T21:03:46.423881Z"
    },
    "hidden": true
   },
   "outputs": [
    {
     "data": {
      "text/plain": [
       "XGBClassifier(base_score=None, booster='gbtree', callbacks=None,\n",
       "              colsample_bylevel=None, colsample_bynode=None,\n",
       "              colsample_bytree=None, device=None, early_stopping_rounds=None,\n",
       "              enable_categorical=False, eta=0.3, eval_metric=None,\n",
       "              feature_types=None, gamma=None, grow_policy=None,\n",
       "              importance_type=None, interaction_constraints=None,\n",
       "              learning_rate=None, max_bin=None, max_cat_threshold=None,\n",
       "              max_cat_to_onehot=None, max_delta_step=None, max_depth=None,\n",
       "              max_leaves=None, min_child_weight=None, missing=nan,\n",
       "              monotone_constraints=None, multi_strategy=None, n_estimators=None,\n",
       "              n_jobs=None, num_parallel_tree=None, ...)"
      ]
     },
     "execution_count": 92,
     "metadata": {},
     "output_type": "execute_result"
    }
   ],
   "source": [
    "final_model = XGBClassifier(\n",
    "    booster=best_params['booster'],\n",
    "    eta=best_params['eta'],\n",
    "    scale_pos_weight=best_params['scale_pos_weight']\n",
    ")\n",
    "\n",
    "final_model.fit(X_params_cs, y_temp)"
   ]
  },
  {
   "cell_type": "markdown",
   "metadata": {
    "hidden": true
   },
   "source": [
    "### 9.1.1 Unseen Data Score"
   ]
  },
  {
   "cell_type": "code",
   "execution_count": 93,
   "metadata": {
    "ExecuteTime": {
     "end_time": "2021-01-11T21:04:19.721539Z",
     "start_time": "2021-01-11T21:04:19.391316Z"
    },
    "hidden": true
   },
   "outputs": [],
   "source": [
    "y_pred = final_model.predict(X_test_cs)"
   ]
  },
  {
   "cell_type": "code",
   "execution_count": 94,
   "metadata": {
    "ExecuteTime": {
     "end_time": "2021-01-11T21:04:20.158624Z",
     "start_time": "2021-01-11T21:04:19.723764Z"
    },
    "hidden": true
   },
   "outputs": [
    {
     "data": {
      "text/html": [
       "<div>\n",
       "<style scoped>\n",
       "    .dataframe tbody tr th:only-of-type {\n",
       "        vertical-align: middle;\n",
       "    }\n",
       "\n",
       "    .dataframe tbody tr th {\n",
       "        vertical-align: top;\n",
       "    }\n",
       "\n",
       "    .dataframe thead th {\n",
       "        text-align: right;\n",
       "    }\n",
       "</style>\n",
       "<table border=\"1\" class=\"dataframe\">\n",
       "  <thead>\n",
       "    <tr style=\"text-align: right;\">\n",
       "      <th></th>\n",
       "      <th>Balanced Accuracy</th>\n",
       "      <th>Precision</th>\n",
       "      <th>Recall</th>\n",
       "      <th>F1</th>\n",
       "      <th>Kappa</th>\n",
       "    </tr>\n",
       "  </thead>\n",
       "  <tbody>\n",
       "    <tr>\n",
       "      <th>unseen</th>\n",
       "      <td>0.912</td>\n",
       "      <td>0.957</td>\n",
       "      <td>0.823</td>\n",
       "      <td>0.885</td>\n",
       "      <td>0.885</td>\n",
       "    </tr>\n",
       "  </tbody>\n",
       "</table>\n",
       "</div>"
      ],
      "text/plain": [
       "        Balanced Accuracy  Precision  Recall     F1  Kappa\n",
       "unseen              0.912      0.957   0.823  0.885  0.885"
      ]
     },
     "execution_count": 94,
     "metadata": {},
     "output_type": "execute_result"
    }
   ],
   "source": [
    "unseen_scores = ml_scores('unseen', y_test, y_pred)\n",
    "unseen_scores"
   ]
  },
  {
   "cell_type": "markdown",
   "metadata": {
    "hidden": true
   },
   "source": [
    "## 9.2 ABC Company Expasion"
   ]
  },
  {
   "cell_type": "markdown",
   "metadata": {
    "hidden": true
   },
   "source": [
    "### 9.2.1 The company receives 25% of each transaction value truly detected as fraud."
   ]
  },
  {
   "cell_type": "code",
   "execution_count": 95,
   "metadata": {
    "ExecuteTime": {
     "end_time": "2021-01-11T21:04:20.217495Z",
     "start_time": "2021-01-11T21:04:20.160741Z"
    },
    "hidden": true
   },
   "outputs": [],
   "source": [
    "df_test = df5.loc[X_test.index, :]\n",
    "df_test['predictions'] = y_pred"
   ]
  },
  {
   "cell_type": "code",
   "execution_count": 96,
   "metadata": {
    "ExecuteTime": {
     "end_time": "2021-01-11T21:04:20.250683Z",
     "start_time": "2021-01-11T21:04:20.219574Z"
    },
    "hidden": true
   },
   "outputs": [],
   "source": [
    "aux1 = df_test[(df_test['is_fraud'] == 'yes') & (df_test['predictions'] == 1)]\n",
    "receives = aux1['amount'].sum() * 0.25"
   ]
  },
  {
   "cell_type": "code",
   "execution_count": 97,
   "metadata": {
    "ExecuteTime": {
     "end_time": "2021-01-11T21:04:20.258680Z",
     "start_time": "2021-01-11T21:04:20.252971Z"
    },
    "hidden": true
   },
   "outputs": [
    {
     "name": "stdout",
     "output_type": "stream",
     "text": [
      "The company can receive 60638881.09 detecting fraud transactions.\n"
     ]
    }
   ],
   "source": [
    "print('The company can receive %.2f detecting fraud transactions.' % (receives))"
   ]
  },
  {
   "cell_type": "markdown",
   "metadata": {
    "hidden": true
   },
   "source": [
    "### 9.2.2 The company receives 5% of each transaction value detected as fraud, however the transaction is legitimate."
   ]
  },
  {
   "cell_type": "code",
   "execution_count": 98,
   "metadata": {
    "ExecuteTime": {
     "end_time": "2021-01-11T21:04:20.278116Z",
     "start_time": "2021-01-11T21:04:20.261386Z"
    },
    "hidden": true
   },
   "outputs": [
    {
     "name": "stdout",
     "output_type": "stream",
     "text": [
      "For wrong decisions, the company can receive 108137.29.\n"
     ]
    }
   ],
   "source": [
    "aux1 = df_test[(df_test['is_fraud'] == 'no') & (df_test['predictions'] == 1)]\n",
    "receives = aux1['amount'].sum() * 0.05\n",
    "\n",
    "print('For wrong decisions, the company can receive %.2f.' % (receives))"
   ]
  },
  {
   "cell_type": "markdown",
   "metadata": {
    "hidden": true
   },
   "source": [
    "### 9.2.3 The company gives back 100% of the value for the customer in each transaction detected as legitimate, however the transaction is actually a fraud."
   ]
  },
  {
   "cell_type": "code",
   "execution_count": 99,
   "metadata": {
    "ExecuteTime": {
     "end_time": "2021-01-11T21:04:20.297204Z",
     "start_time": "2021-01-11T21:04:20.281709Z"
    },
    "hidden": true
   },
   "outputs": [
    {
     "name": "stdout",
     "output_type": "stream",
     "text": [
      "However, the company must return the amount of 3445682.59.\n"
     ]
    }
   ],
   "source": [
    "aux1 = df_test[(df_test['is_fraud'] == 'yes') & (df_test['predictions'] == 0)]\n",
    "receives = aux1['amount'].sum()\n",
    "\n",
    "print('However, the company must return the amount of %.2f.' % (receives))"
   ]
  },
  {
   "cell_type": "markdown",
   "metadata": {
    "hidden": true
   },
   "source": [
    "## 9.3 Model's Performance"
   ]
  },
  {
   "cell_type": "markdown",
   "metadata": {
    "hidden": true
   },
   "source": [
    "### 9.3.1 What is the model's Precision and Accuracy?"
   ]
  },
  {
   "cell_type": "code",
   "execution_count": 100,
   "metadata": {
    "ExecuteTime": {
     "end_time": "2021-01-11T21:04:20.305075Z",
     "start_time": "2021-01-11T21:04:20.300099Z"
    },
    "hidden": true
   },
   "outputs": [
    {
     "name": "stdout",
     "output_type": "stream",
     "text": [
      "For unseen data, the values of balanced accuracy is equal 0.91 and precision is equal 0.96.\n"
     ]
    }
   ],
   "source": [
    "print('For unseen data, the values of balanced accuracy is equal %.2f and precision is equal %.2f.' % (unseen_scores['Balanced Accuracy'], unseen_scores['Precision']))"
   ]
  },
  {
   "cell_type": "markdown",
   "metadata": {
    "hidden": true
   },
   "source": [
    "### 9.3.2 How reliable is the model in classifying transactions as legitimate or fraudulent?"
   ]
  },
  {
   "cell_type": "code",
   "execution_count": 101,
   "metadata": {
    "ExecuteTime": {
     "end_time": "2021-01-11T21:05:16.886043Z",
     "start_time": "2021-01-11T21:05:16.881350Z"
    },
    "hidden": true
   },
   "outputs": [
    {
     "name": "stdout",
     "output_type": "stream",
     "text": [
      "The model can detect 0.851 +/- 0.023 of the fraud. However it detected 0.84 of the frauds from a unseen data.\n"
     ]
    }
   ],
   "source": [
    "print('The model can detect 0.851 +/- 0.023 of the fraud. However it detected 0.84 of the frauds from a unseen data.')"
   ]
  },
  {
   "cell_type": "markdown",
   "metadata": {
    "hidden": true
   },
   "source": [
    "### 9.3.3 What is the revenue expected by the company  classify 100% of transactions with the model?"
   ]
  },
  {
   "cell_type": "code",
   "execution_count": 102,
   "metadata": {
    "ExecuteTime": {
     "end_time": "2021-01-11T21:04:20.372277Z",
     "start_time": "2021-01-11T21:04:20.316349Z"
    },
    "hidden": true
   },
   "outputs": [
    {
     "name": "stdout",
     "output_type": "stream",
     "text": [
      "Using the model the company can revenue 60747018.38.\n"
     ]
    }
   ],
   "source": [
    "aux1 = df_test[(df_test['is_fraud'] == 'yes') & (df_test['predictions'] == 1)]\n",
    "receives = aux1['amount'].sum() * 0.25\n",
    "\n",
    "aux2 = df_test[(df_test['is_fraud'] == 'no') & (df_test['predictions'] == 1)]\n",
    "receives2 = aux2['amount'].sum() * 0.05\n",
    "\n",
    "print('Using the model the company can revenue %.2f.' % (receives + receives2))"
   ]
  },
  {
   "cell_type": "code",
   "execution_count": 103,
   "metadata": {
    "ExecuteTime": {
     "end_time": "2021-01-11T21:04:20.423598Z",
     "start_time": "2021-01-11T21:04:20.376776Z"
    },
    "hidden": true
   },
   "outputs": [
    {
     "name": "stdout",
     "output_type": "stream",
     "text": [
      "However the currently method the revenue is 0.00.\n"
     ]
    }
   ],
   "source": [
    "aux3 = df_test[(df_test['is_fraud'] == 'yes') & (df_test['is_flagged_fraud'] == 'yes')]\n",
    "curr_receives = aux3['amount'].sum() * 0.25\n",
    "\n",
    "aux4 = df_test[(df_test['is_fraud'] == 'no') & (df_test['is_flagged_fraud'] == 'yes')]\n",
    "curr_receives2 = aux4['amount'].sum() * 0.05\n",
    "\n",
    "print('However the currently method the revenue is %.2f.' % (curr_receives + curr_receives2))"
   ]
  },
  {
   "cell_type": "markdown",
   "metadata": {
    "hidden": true
   },
   "source": [
    "### 9.3.4 What is the loss expected by the Company if it classifies 100% of the transactions with the model?"
   ]
  },
  {
   "cell_type": "code",
   "execution_count": 104,
   "metadata": {
    "ExecuteTime": {
     "end_time": "2021-01-11T21:04:20.460738Z",
     "start_time": "2021-01-11T21:04:20.428461Z"
    },
    "hidden": true
   },
   "outputs": [
    {
     "name": "stdout",
     "output_type": "stream",
     "text": [
      "For wrong classifications the company must return the amount of 3445682.59.\n"
     ]
    }
   ],
   "source": [
    "aux1 = df_test[(df_test['is_fraud'] == 'yes') & (df_test['predictions'] == 0)]\n",
    "loss = aux1['amount'].sum()\n",
    "\n",
    "print('For wrong classifications the company must return the amount of %.2f.' % (loss))"
   ]
  },
  {
   "cell_type": "code",
   "execution_count": 105,
   "metadata": {
    "ExecuteTime": {
     "end_time": "2021-01-11T21:04:20.524063Z",
     "start_time": "2021-01-11T21:04:20.463672Z"
    },
    "hidden": true
   },
   "outputs": [
    {
     "name": "stdout",
     "output_type": "stream",
     "text": [
      "For wrong classifications using the currently method, the company must return the amount of 246001206.94.\n"
     ]
    }
   ],
   "source": [
    "aux1 = df_test[(df_test['is_fraud'] == 'yes') & (df_test['is_flagged_fraud'] == 'no')]\n",
    "curr_loss = aux1['amount'].sum()\n",
    "\n",
    "print('For wrong classifications using the currently method, the company must return the amount of %.2f.' % (curr_loss))"
   ]
  },
  {
   "cell_type": "markdown",
   "metadata": {
    "hidden": true
   },
   "source": [
    "### 9.3.5 What is the profit expected by the ABC company when using the model?"
   ]
  },
  {
   "cell_type": "code",
   "execution_count": 106,
   "metadata": {
    "ExecuteTime": {
     "end_time": "2021-01-11T21:04:20.539074Z",
     "start_time": "2021-01-11T21:04:20.528161Z"
    },
    "hidden": true
   },
   "outputs": [
    {
     "name": "stdout",
     "output_type": "stream",
     "text": [
      "The company can expect the profit of 57301335.79.\n"
     ]
    }
   ],
   "source": [
    "print('The company can expect the profit of %.2f.' % (receives + receives2 - loss))"
   ]
  },
  {
   "cell_type": "code",
   "execution_count": 107,
   "metadata": {
    "ExecuteTime": {
     "end_time": "2021-01-11T21:04:20.550429Z",
     "start_time": "2021-01-11T21:04:20.543382Z"
    },
    "hidden": true
   },
   "outputs": [
    {
     "name": "stdout",
     "output_type": "stream",
     "text": [
      "Using the currently method, the profit is -246001206.94.\n"
     ]
    }
   ],
   "source": [
    "print('Using the currently method, the profit is %.2f.' % (curr_receives + curr_receives - curr_loss))"
   ]
  },
  {
   "cell_type": "markdown",
   "metadata": {
    "heading_collapsed": true
   },
   "source": [
    "# 10.0 Model Deploy"
   ]
  },
  {
   "cell_type": "markdown",
   "metadata": {
    "hidden": true
   },
   "source": [
    "## 10.1 Saving"
   ]
  },
  {
   "cell_type": "code",
   "execution_count": 108,
   "metadata": {
    "ExecuteTime": {
     "end_time": "2021-01-11T21:05:56.929387Z",
     "start_time": "2021-01-11T21:05:24.082949Z"
    },
    "hidden": true
   },
   "outputs": [
    {
     "data": {
      "text/plain": [
       "['C:\\\\Users\\\\Sahil Khan\\\\OneDrive\\\\Desktop\\\\AI GRAD CERT\\\\transaction-fraud-detection-main\\\\models\\\\model_cycle1.joblib']"
      ]
     },
     "execution_count": 108,
     "metadata": {},
     "output_type": "execute_result"
    }
   ],
   "source": [
    "final_model = XGBClassifier(\n",
    "    booster=best_params['booster'],\n",
    "    eta=best_params['eta'],\n",
    "    scale_pos_weight=best_params['scale_pos_weight']\n",
    ")\n",
    "\n",
    "final_model.fit(X_params_cs, y_temp)\n",
    "\n",
    "joblib.dump(final_model, r'C:\\Users\\Sahil Khan\\OneDrive\\Desktop\\AI GRAD CERT\\transaction-fraud-detection-main\\models\\model_cycle1.joblib')"
   ]
  },
  {
   "cell_type": "code",
   "execution_count": 109,
   "metadata": {
    "ExecuteTime": {
     "end_time": "2021-01-11T21:05:56.967807Z",
     "start_time": "2021-01-11T21:05:56.931583Z"
    },
    "hidden": true
   },
   "outputs": [
    {
     "data": {
      "text/plain": [
       "['C:\\\\Users\\\\Sahil Khan\\\\OneDrive\\\\Desktop\\\\AI GRAD CERT\\\\transaction-fraud-detection-main\\\\functions\\\\minmaxscaler_cycle1.joblib']"
      ]
     },
     "execution_count": 109,
     "metadata": {},
     "output_type": "execute_result"
    }
   ],
   "source": [
    "mm = MinMaxScaler()\n",
    "mm.fit(X_params_cs, y_temp)\n",
    "\n",
    "joblib.dump(mm, r'C:\\Users\\Sahil Khan\\OneDrive\\Desktop\\AI GRAD CERT\\transaction-fraud-detection-main\\functions\\minmaxscaler_cycle1.joblib')"
   ]
  },
  {
   "cell_type": "code",
   "execution_count": 110,
   "metadata": {
    "ExecuteTime": {
     "end_time": "2021-01-11T21:08:49.293823Z",
     "start_time": "2021-01-11T21:08:49.286026Z"
    },
    "hidden": true
   },
   "outputs": [
    {
     "data": {
      "text/plain": [
       "['C:\\\\Users\\\\Sahil Khan\\\\OneDrive\\\\Desktop\\\\AI GRAD CERT\\\\transaction-fraud-detection-main\\\\functions\\\\onehotencoder_cycle1.joblib']"
      ]
     },
     "execution_count": 110,
     "metadata": {},
     "output_type": "execute_result"
    }
   ],
   "source": [
    "joblib.dump(ohe, r'C:\\Users\\Sahil Khan\\OneDrive\\Desktop\\AI GRAD CERT\\transaction-fraud-detection-main\\functions\\onehotencoder_cycle1.joblib')"
   ]
  },
  {
   "cell_type": "markdown",
   "metadata": {
    "hidden": true
   },
   "source": [
    "## 10.2 Fraud Class"
   ]
  },
  {
   "cell_type": "code",
   "execution_count": 111,
   "metadata": {
    "ExecuteTime": {
     "end_time": "2021-01-11T21:08:52.576698Z",
     "start_time": "2021-01-11T21:08:52.566166Z"
    },
    "hidden": true
   },
   "outputs": [],
   "source": [
    "import joblib\n",
    "import inflection\n",
    "import pandas as pd\n",
    "\n",
    "class Fraud:\n",
    "    \n",
    "    def __init__(self):\n",
    "        self.minmaxscaler = joblib.load('../parameters/minmaxscaler_cycle1.joblib')\n",
    "        self.onehotencoder = joblib.load('../parameters/onehotencoder_cycle1.joblib')\n",
    "        \n",
    "    def data_cleaning(self, df1):\n",
    "        cols_old = df1.columns.tolist()\n",
    "        \n",
    "        snakecase = lambda i: inflection.underscore(i)\n",
    "        cols_new = list(map(snakecase, cols_old))\n",
    "        \n",
    "        df1.columns = cols_new\n",
    "        \n",
    "        return df1\n",
    "    \n",
    "    def feature_engineering(self, df2):\n",
    "        # step\n",
    "        df2['step_days'] = df2['step'].apply(lambda i: i/24)\n",
    "        df2['step_weeks'] = df2['step'].apply(lambda i: i/(24*7))\n",
    "\n",
    "        # difference between initial balance before the transaction and new balance after the transaction\n",
    "        df2['diff_new_old_balance'] = df2['newbalance_orig'] - df2['oldbalance_org']\n",
    "\n",
    "        # difference between initial balance recipient before the transaction and new balance recipient after the transaction.\n",
    "        df2['diff_new_old_destiny'] = df2['newbalance_dest'] - df2['oldbalance_dest']\n",
    "\n",
    "        # name orig and name dest\n",
    "        df2['name_orig'] = df2['name_orig'].apply(lambda i: i[0])\n",
    "        df2['name_dest'] = df2['name_dest'].apply(lambda i: i[0])\n",
    "        \n",
    "        return df2.drop(columns=['name_orig', 'name_dest', 'step_weeks', 'step_days'], axis=1)\n",
    "    \n",
    "    def data_preparation(self, df3):\n",
    "        # One Hot Encoding\n",
    "        df3 = pd.get_dummies(df3)\n",
    "        \n",
    "        # Rescaling \n",
    "        num_columns = ['amount', 'oldbalance_org', 'newbalance_orig', 'oldbalance_dest', \n",
    "                       'newbalance_dest', 'diff_new_old_balance', 'diff_new_old_destiny']\n",
    "        df3[num_columns] = self.minmaxscaler.transform(df3[num_columns])\n",
    "        \n",
    "        # OneHotEncoder\n",
    "        df3 = self.onehotencoder.transform(df3)\n",
    "        \n",
    "        # selected columns\n",
    "        final_columns_selected = ['step', 'oldbalance_org', 'newbalance_orig', 'newbalance_dest', \n",
    "                                  'diff_new_old_balance', 'diff_new_old_destiny', 'type_TRANSFER']\n",
    "        return df3[final_columns_selected]\n",
    "    \n",
    "    def get_prediction(self, model, original_data, test_data):\n",
    "        pred = model.predict(test_data)\n",
    "        original_data['prediction'] = pred\n",
    "        \n",
    "        return original_data.to_json(orient=\"records\", date_format=\"iso\")"
   ]
  },
  {
   "cell_type": "markdown",
   "metadata": {
    "hidden": true
   },
   "source": [
    "## 10.3 API Handler"
   ]
  },
  {
   "cell_type": "code",
   "execution_count": 112,
   "metadata": {
    "ExecuteTime": {
     "end_time": "2021-01-11T21:08:53.901515Z",
     "start_time": "2021-01-11T21:08:53.881407Z"
    },
    "hidden": true
   },
   "outputs": [
    {
     "name": "stdout",
     "output_type": "stream",
     "text": [
      " * Serving Flask app \"__main__\" (lazy loading)\n",
      " * Environment: production\n",
      "   WARNING: This is a development server. Do not use it in a production deployment.\n",
      "   Use a production WSGI server instead.\n",
      " * Debug mode: off\n"
     ]
    },
    {
     "name": "stderr",
     "output_type": "stream",
     "text": [
      " * Running on all addresses.\n",
      "   WARNING: This is a development server. Do not use it in a production deployment.\n",
      " * Running on http://192.168.0.27:5000/ (Press CTRL+C to quit)\n"
     ]
    }
   ],
   "source": [
    "import joblib\n",
    "import pandas as pd\n",
    "from flask import Flask, request, Response\n",
    "\n",
    "# loading model\n",
    "model = joblib.load('../models/model_cycle1.joblib')\n",
    "\n",
    "# initialize API\n",
    "app = Flask(__name__)\n",
    "\n",
    "@app.route('/fraud/predict', methods=['POST'])\n",
    "def churn_predict():\n",
    "    test_json = request.get_json()\n",
    "   \n",
    "    if test_json: # there is data\n",
    "        if isinstance(test_json, dict): # unique example\n",
    "            test_raw = pd.DataFrame(test_json, index=[0])\n",
    "            \n",
    "        else: # multiple example\n",
    "            test_raw = pd.DataFrame(test_json, columns=test_json[0].keys())\n",
    "            \n",
    "        # Instantiate Rossmann class\n",
    "        pipeline = Fraud()\n",
    "        \n",
    "        # data cleaning\n",
    "        df1 = pipeline.data_cleaning(test_raw)\n",
    "        \n",
    "        # feature engineering\n",
    "        df2 = pipeline.feature_engineering(df1)\n",
    "        \n",
    "        # data preparation\n",
    "        df3 = pipeline.data_preparation(df2)\n",
    "        \n",
    "        # prediction\n",
    "        df_response = pipeline.get_prediction(model, test_raw, df3)\n",
    "        \n",
    "        return df_response\n",
    "        \n",
    "        \n",
    "    else:\n",
    "        return Response('{}', status=200, mimetype='application/json')\n",
    "\n",
    "if __name__ == '__main__':\n",
    "    app.run('0.0.0.0')"
   ]
  },
  {
   "cell_type": "markdown",
   "metadata": {
    "hidden": true
   },
   "source": [
    "## 10.4 API Tester"
   ]
  },
  {
   "cell_type": "code",
   "execution_count": null,
   "metadata": {
    "ExecuteTime": {
     "end_time": "2021-01-11T18:25:36.827345Z",
     "start_time": "2021-01-11T18:25:35.417258Z"
    },
    "hidden": true
   },
   "outputs": [],
   "source": [
    "# loading test dataset\n",
    "df10 = pd.read_csv(\"../database/fraud_0.1origbase.csv\").iloc[5, :-2]"
   ]
  },
  {
   "cell_type": "code",
   "execution_count": null,
   "metadata": {
    "ExecuteTime": {
     "end_time": "2021-01-11T18:25:36.840932Z",
     "start_time": "2021-01-11T18:25:36.829367Z"
    },
    "hidden": true
   },
   "outputs": [
    {
     "data": {
      "text/plain": [
       "step                     208\n",
       "type                 CASH_IN\n",
       "amount                256441\n",
       "nameOrig         C1001269496\n",
       "oldbalanceOrg            554\n",
       "Name: 5, dtype: object"
      ]
     },
     "execution_count": 167,
     "metadata": {},
     "output_type": "execute_result"
    }
   ],
   "source": [
    "df10.head()"
   ]
  },
  {
   "cell_type": "code",
   "execution_count": null,
   "metadata": {
    "ExecuteTime": {
     "end_time": "2021-01-11T18:25:41.840172Z",
     "start_time": "2021-01-11T18:25:41.837309Z"
    },
    "hidden": true
   },
   "outputs": [],
   "source": [
    "# convert Dataframe to json\n",
    "data = df10.to_json()"
   ]
  },
  {
   "cell_type": "code",
   "execution_count": null,
   "metadata": {
    "ExecuteTime": {
     "end_time": "2021-01-11T18:25:42.316636Z",
     "start_time": "2021-01-11T18:25:42.306247Z"
    },
    "hidden": true
   },
   "outputs": [
    {
     "data": {
      "text/plain": [
       "'{\"step\":208,\"type\":\"CASH_IN\",\"amount\":256440.86,\"nameOrig\":\"C1001269496\",\"oldbalanceOrg\":554.0,\"newbalanceOrig\":256994.86,\"nameDest\":\"C1503528288\",\"oldbalanceDest\":0.0,\"newbalanceDest\":0.0}'"
      ]
     },
     "execution_count": 169,
     "metadata": {},
     "output_type": "execute_result"
    }
   ],
   "source": [
    "data"
   ]
  },
  {
   "cell_type": "code",
   "execution_count": null,
   "metadata": {
    "ExecuteTime": {
     "end_time": "2021-01-11T18:25:44.978148Z",
     "start_time": "2021-01-11T18:25:44.974930Z"
    },
    "hidden": true
   },
   "outputs": [],
   "source": [
    "import requests"
   ]
  },
  {
   "cell_type": "code",
   "execution_count": null,
   "metadata": {
    "ExecuteTime": {
     "end_time": "2021-01-11T18:37:23.766410Z",
     "start_time": "2021-01-11T18:37:23.618922Z"
    },
    "hidden": true
   },
   "outputs": [],
   "source": [
    "url = 'http://0.0.0.0:5000/fraud/predict'\n",
    "header = {'Content-type': 'application/json'}\n",
    "\n",
    "r = requests.post(url=url, data=data, headers=header)"
   ]
  },
  {
   "cell_type": "code",
   "execution_count": null,
   "metadata": {
    "ExecuteTime": {
     "end_time": "2021-01-11T18:37:24.356996Z",
     "start_time": "2021-01-11T18:37:24.339403Z"
    },
    "hidden": true
   },
   "outputs": [
    {
     "data": {
      "text/plain": [
       "200"
      ]
     },
     "execution_count": 225,
     "metadata": {},
     "output_type": "execute_result"
    }
   ],
   "source": [
    "r.status_code"
   ]
  },
  {
   "cell_type": "code",
   "execution_count": null,
   "metadata": {
    "ExecuteTime": {
     "end_time": "2021-01-11T18:37:40.889263Z",
     "start_time": "2021-01-11T18:37:40.876879Z"
    },
    "hidden": true
   },
   "outputs": [
    {
     "data": {
      "text/plain": [
       "[{'step': 208,\n",
       "  'type': 'CASH_IN',\n",
       "  'amount': 256440.86,\n",
       "  'name_orig': 'C',\n",
       "  'oldbalance_org': 554.0,\n",
       "  'newbalance_orig': 256994.86,\n",
       "  'name_dest': 'C',\n",
       "  'oldbalance_dest': 0.0,\n",
       "  'newbalance_dest': 0.0,\n",
       "  'step_days': 8.6666666667,\n",
       "  'step_weeks': 1.2380952381,\n",
       "  'diff_new_old_balance': 256440.86,\n",
       "  'diff_new_old_destiny': 0.0,\n",
       "  'prediction': 0}]"
      ]
     },
     "execution_count": 226,
     "metadata": {},
     "output_type": "execute_result"
    }
   ],
   "source": [
    "r.json()"
   ]
  },
  {
   "cell_type": "code",
   "execution_count": null,
   "metadata": {
    "ExecuteTime": {
     "end_time": "2021-01-11T18:38:07.428531Z",
     "start_time": "2021-01-11T18:38:07.417682Z"
    },
    "hidden": true
   },
   "outputs": [],
   "source": [
    "d = pd.DataFrame(r.json(), columns=r.json()[0].keys())"
   ]
  },
  {
   "cell_type": "code",
   "execution_count": null,
   "metadata": {
    "ExecuteTime": {
     "end_time": "2021-01-11T18:38:08.754022Z",
     "start_time": "2021-01-11T18:38:08.730062Z"
    },
    "hidden": true
   },
   "outputs": [
    {
     "data": {
      "text/html": [
       "<div>\n",
       "<style scoped>\n",
       "    .dataframe tbody tr th:only-of-type {\n",
       "        vertical-align: middle;\n",
       "    }\n",
       "\n",
       "    .dataframe tbody tr th {\n",
       "        vertical-align: top;\n",
       "    }\n",
       "\n",
       "    .dataframe thead th {\n",
       "        text-align: right;\n",
       "    }\n",
       "</style>\n",
       "<table border=\"1\" class=\"dataframe\">\n",
       "  <thead>\n",
       "    <tr style=\"text-align: right;\">\n",
       "      <th></th>\n",
       "      <th>step</th>\n",
       "      <th>type</th>\n",
       "      <th>amount</th>\n",
       "      <th>name_orig</th>\n",
       "      <th>oldbalance_org</th>\n",
       "      <th>newbalance_orig</th>\n",
       "      <th>name_dest</th>\n",
       "      <th>oldbalance_dest</th>\n",
       "      <th>newbalance_dest</th>\n",
       "      <th>step_days</th>\n",
       "      <th>step_weeks</th>\n",
       "      <th>diff_new_old_balance</th>\n",
       "      <th>diff_new_old_destiny</th>\n",
       "      <th>prediction</th>\n",
       "    </tr>\n",
       "  </thead>\n",
       "  <tbody>\n",
       "    <tr>\n",
       "      <th>0</th>\n",
       "      <td>208</td>\n",
       "      <td>CASH_IN</td>\n",
       "      <td>256440.86</td>\n",
       "      <td>C</td>\n",
       "      <td>554.0</td>\n",
       "      <td>256994.86</td>\n",
       "      <td>C</td>\n",
       "      <td>0.0</td>\n",
       "      <td>0.0</td>\n",
       "      <td>8.666667</td>\n",
       "      <td>1.238095</td>\n",
       "      <td>256440.86</td>\n",
       "      <td>0.0</td>\n",
       "      <td>0</td>\n",
       "    </tr>\n",
       "  </tbody>\n",
       "</table>\n",
       "</div>"
      ],
      "text/plain": [
       "   step     type     amount name_orig  oldbalance_org  newbalance_orig name_dest  oldbalance_dest  newbalance_dest  step_days  step_weeks  diff_new_old_balance  diff_new_old_destiny  prediction\n",
       "0   208  CASH_IN  256440.86         C           554.0        256994.86         C              0.0              0.0   8.666667    1.238095             256440.86                   0.0           0"
      ]
     },
     "execution_count": 228,
     "metadata": {},
     "output_type": "execute_result"
    }
   ],
   "source": [
    "d"
   ]
  },
  {
   "cell_type": "code",
   "execution_count": null,
   "metadata": {
    "hidden": true
   },
   "outputs": [],
   "source": []
  }
 ],
 "metadata": {
  "kernelspec": {
   "display_name": "Python 3",
   "language": "python",
   "name": "python3"
  },
  "language_info": {
   "codemirror_mode": {
    "name": "ipython",
    "version": 3
   },
   "file_extension": ".py",
   "mimetype": "text/x-python",
   "name": "python",
   "nbconvert_exporter": "python",
   "pygments_lexer": "ipython3",
   "version": "3.9.12"
  }
 },
 "nbformat": 4,
 "nbformat_minor": 4
}
